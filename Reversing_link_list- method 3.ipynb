{
 "cells": [
  {
   "cell_type": "code",
   "execution_count": 2,
   "id": "unexpected-liberty",
   "metadata": {},
   "outputs": [
    {
     "name": "stdout",
     "output_type": "stream",
     "text": [
      "3 4 5 6 7 8 9 -1\n",
      "3->4->5->6->7->8->9->None\n",
      "9->8->7->6->5->4->3->None\n"
     ]
    }
   ],
   "source": [
    "class Node:\n",
    "    def __init__(self,data):\n",
    "        self.data=data\n",
    "        self.next=None\n",
    "        \n",
    "def printlist(head):\n",
    "    while head is not None:\n",
    "        print(str(head.data)+\"->\",end=\"\")\n",
    "        head=head.next\n",
    "    print(None)\n",
    "\n",
    "def reverse(head):\n",
    "    if head is None or head.next is None:\n",
    "        return head\n",
    "    smallhead=reverse(head.next)\n",
    "    tail=head.next\n",
    "    tail.next=head\n",
    "    head.next=None\n",
    "    return smallhead\n",
    "    \n",
    "def takeinput():\n",
    "    linklist=[int(ele) for ele in input().split()]\n",
    "    head=None\n",
    "    tail=None\n",
    "    for ele in linklist:\n",
    "        if ele ==-1:\n",
    "            break\n",
    "        newnode=Node(ele)\n",
    "        if head is None:\n",
    "            head=newnode\n",
    "            tail=head\n",
    "        else:\n",
    "            tail.next=newnode\n",
    "            tail=tail.next\n",
    "    return head\n",
    "\n",
    "head=takeinput()\n",
    "printlist(head)\n",
    "\n",
    "h1=reverse(head)\n",
    "printlist(h1)"
   ]
  }
 ],
 "metadata": {
  "kernelspec": {
   "display_name": "Python 3",
   "language": "python",
   "name": "python3"
  },
  "language_info": {
   "codemirror_mode": {
    "name": "ipython",
    "version": 3
   },
   "file_extension": ".py",
   "mimetype": "text/x-python",
   "name": "python",
   "nbconvert_exporter": "python",
   "pygments_lexer": "ipython3",
   "version": "3.9.2"
  }
 },
 "nbformat": 4,
 "nbformat_minor": 5
}

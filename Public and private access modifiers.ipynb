{
 "cells": [
  {
   "cell_type": "markdown",
   "id": "improving-savings",
   "metadata": {},
   "source": [
    "#### Till now whatever code we see we use public access modifiers. Public members are accessible from outside the class , The objects of the same class is requored to invoke a Public method"
   ]
  },
  {
   "cell_type": "code",
   "execution_count": 5,
   "id": "undefined-jones",
   "metadata": {},
   "outputs": [
    {
     "name": "stdout",
     "output_type": "stream",
     "text": [
      "aditya\n",
      "24\n",
      "harshit\n",
      "23\n"
     ]
    }
   ],
   "source": [
    "class Student:\n",
    "    \n",
    "    def __init__(self,name,age): # an init method is made this will be called automatically when an object of this class is made\n",
    "        self.name=name\n",
    "        self.age=age\n",
    "        \n",
    "c1=Student(\"aditya\",24)   # the c1 object of Student class is made and aditya , 23 will pass to the init mentod automatically\n",
    "\n",
    "print(c1.name)\n",
    "print(c1.age)\n",
    "\n",
    "c1.name=\"harshit\"   # as the attributes of the c1 are public we can change them from outside the class\n",
    "c1.age=23\n",
    "\n",
    "print(c1.name)\n",
    "print(c1.age)"
   ]
  },
  {
   "cell_type": "code",
   "execution_count": 8,
   "id": "broadband-workstation",
   "metadata": {},
   "outputs": [
    {
     "ename": "AttributeError",
     "evalue": "'Student1' object has no attribute '__name'",
     "output_type": "error",
     "traceback": [
      "\u001b[1;31m---------------------------------------------------------------------------\u001b[0m",
      "\u001b[1;31mAttributeError\u001b[0m                            Traceback (most recent call last)",
      "\u001b[1;32m<ipython-input-8-328fa0093a23>\u001b[0m in \u001b[0;36m<module>\u001b[1;34m\u001b[0m\n\u001b[0;32m      5\u001b[0m \u001b[1;33m\u001b[0m\u001b[0m\n\u001b[0;32m      6\u001b[0m \u001b[0mc2\u001b[0m\u001b[1;33m=\u001b[0m\u001b[0mStudent1\u001b[0m\u001b[1;33m(\u001b[0m\u001b[1;34m\"kamla\"\u001b[0m\u001b[1;33m,\u001b[0m\u001b[1;36m33\u001b[0m\u001b[1;33m)\u001b[0m\u001b[1;33m\u001b[0m\u001b[1;33m\u001b[0m\u001b[0m\n\u001b[1;32m----> 7\u001b[1;33m \u001b[0mprint\u001b[0m\u001b[1;33m(\u001b[0m\u001b[0mc2\u001b[0m\u001b[1;33m.\u001b[0m\u001b[0m__name\u001b[0m\u001b[1;33m)\u001b[0m         \u001b[1;31m# as __name is now a private you cannot allowed to change or even print that variable outside the class\u001b[0m\u001b[1;33m\u001b[0m\u001b[1;33m\u001b[0m\u001b[0m\n\u001b[0m\u001b[0;32m      8\u001b[0m \u001b[0mprint\u001b[0m\u001b[1;33m(\u001b[0m\u001b[0mc2\u001b[0m\u001b[1;33m.\u001b[0m\u001b[0m__age\u001b[0m\u001b[1;33m)\u001b[0m\u001b[1;33m\u001b[0m\u001b[1;33m\u001b[0m\u001b[0m\n",
      "\u001b[1;31mAttributeError\u001b[0m: 'Student1' object has no attribute '__name'"
     ]
    }
   ],
   "source": [
    "class Student1:\n",
    "    def __init__(self,name,age):\n",
    "        self.__name=name                 # by doing self.__name now this become private and you cannot change it from outside\n",
    "        self.__age=age\n",
    "        \n",
    "c2=Student1(\"kamla\",33)\n",
    "print(c2.__name)         # as __name is now a private you cannot allowed to change or even print that variable outside the class\n",
    "print(c2.__age)\n",
    "\n",
    "# we can see that this is showing no attribute __name"
   ]
  },
  {
   "cell_type": "markdown",
   "id": "neither-blues",
   "metadata": {},
   "source": [
    "### then how to print the private variables?\n",
    "### you must make a method inside the class to access those variables... you can call that method from outside"
   ]
  },
  {
   "cell_type": "code",
   "execution_count": 13,
   "id": "agreed-roommate",
   "metadata": {},
   "outputs": [
    {
     "name": "stdout",
     "output_type": "stream",
     "text": [
      "kamla\n",
      "33\n"
     ]
    }
   ],
   "source": [
    "class Student1:\n",
    "    def __init__(self,name,age):\n",
    "        self.__name=name             # by doing self.__name now this become private and you cannot change it from outside\n",
    "        self.__age=age\n",
    "        \n",
    "    def Studentdetails(self):        # we have made a method within the class to print the private variables of the class\n",
    "        print(self.__name)\n",
    "        print(self.__age)\n",
    "        \n",
    "c2=Student1(\"kamla\",33)\n",
    "\n",
    "c2.Studentdetails()\n"
   ]
  }
 ],
 "metadata": {
  "kernelspec": {
   "display_name": "Python 3",
   "language": "python",
   "name": "python3"
  },
  "language_info": {
   "codemirror_mode": {
    "name": "ipython",
    "version": 3
   },
   "file_extension": ".py",
   "mimetype": "text/x-python",
   "name": "python",
   "nbconvert_exporter": "python",
   "pygments_lexer": "ipython3",
   "version": "3.9.2"
  }
 },
 "nbformat": 4,
 "nbformat_minor": 5
}

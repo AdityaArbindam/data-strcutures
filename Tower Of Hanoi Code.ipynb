{
 "cells": [
  {
   "cell_type": "code",
   "execution_count": 16,
   "id": "cardiac-tuition",
   "metadata": {},
   "outputs": [
    {
     "name": "stdout",
     "output_type": "stream",
     "text": [
      "s d\n",
      "s h\n",
      "d h\n",
      "s d\n",
      "h s\n",
      "h d\n",
      "s d\n"
     ]
    }
   ],
   "source": [
    "def Towerofhanoi(n,a,b,c):\n",
    "    if(n==1):\n",
    "        print(a+\" \"+c)\n",
    "        return\n",
    "    Towerofhanoi(n-1,a,c,b)\n",
    "    print(a+\" \"+c)\n",
    "    Towerofhanoi(n-1,b,a,c)\n",
    "\n",
    "Towerofhanoi(3,'s','h','d')"
   ]
  }
 ],
 "metadata": {
  "kernelspec": {
   "display_name": "Python 3",
   "language": "python",
   "name": "python3"
  },
  "language_info": {
   "codemirror_mode": {
    "name": "ipython",
    "version": 3
   },
   "file_extension": ".py",
   "mimetype": "text/x-python",
   "name": "python",
   "nbconvert_exporter": "python",
   "pygments_lexer": "ipython3",
   "version": "3.9.2"
  }
 },
 "nbformat": 4,
 "nbformat_minor": 5
}

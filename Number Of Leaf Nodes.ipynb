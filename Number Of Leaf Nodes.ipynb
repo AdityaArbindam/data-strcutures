{
 "cells": [
  {
   "cell_type": "code",
   "execution_count": 24,
   "id": "raising-final",
   "metadata": {},
   "outputs": [],
   "source": [
    "class binaryTree():\n",
    "    def __init__(self,data):\n",
    "        self.data=data\n",
    "        self.left=None\n",
    "        self.right=None\n",
    "        "
   ]
  },
  {
   "cell_type": "code",
   "execution_count": 25,
   "id": "prescribed-installation",
   "metadata": {},
   "outputs": [],
   "source": [
    "def takeinput():\n",
    "    root=int(input())\n",
    "    if root==-1:\n",
    "        return \n",
    "    rootnode=binaryTree(root)\n",
    "    left=takeinput()\n",
    "    right=takeinput()\n",
    "    rootnode.left=left\n",
    "    rootnode.right=right\n",
    "    return rootnode\n",
    "    "
   ]
  },
  {
   "cell_type": "code",
   "execution_count": 26,
   "id": "fuzzy-infection",
   "metadata": {},
   "outputs": [],
   "source": [
    "def printtree(root):\n",
    "    if root==None:\n",
    "        return\n",
    "    print(root.data,end=':')\n",
    "    if root.left!=None:\n",
    "            print(\"L \",root.left.data,end='')\n",
    "    if root.right !=None:\n",
    "            print(\"R\",root.right.data)\n",
    "    print()\n",
    "    printtree(root.left)\n",
    "    printtree(root.right)\n",
    "    return "
   ]
  },
  {
   "cell_type": "code",
   "execution_count": 27,
   "id": "ordinary-phrase",
   "metadata": {},
   "outputs": [],
   "source": [
    "def numofleafNodes(root):                       # this function is basically return 0 if the root node is None\n",
    "    if root==None:                         # if the node dont have any children then that node is itself the root node thus return 1\n",
    "        return 0\n",
    "    if root.left==None and root.right==None:\n",
    "        return 1\n",
    "    l=numofleafNodes(root.left)         # calculating leaf nodes for right sub tree and left subtree\n",
    "    r=numofleafNodes(root.right)\n",
    "    return l+r                           # returning the sum of the nodes present into the left and right subtree\n"
   ]
  },
  {
   "cell_type": "code",
   "execution_count": 29,
   "id": "straight-greeting",
   "metadata": {},
   "outputs": [
    {
     "name": "stdout",
     "output_type": "stream",
     "text": [
      "1\n",
      "2\n",
      "-1\n",
      "-1\n",
      "3\n",
      "4\n",
      "-1\n",
      "-1\n",
      "5\n",
      "-1\n",
      "-1\n",
      "1:L  2R 3\n",
      "\n",
      "2:\n",
      "3:L  4R 5\n",
      "\n",
      "4:\n",
      "5:\n",
      "3\n"
     ]
    }
   ],
   "source": [
    "root=takeinput()\n",
    "printtree(root)\n",
    "print(numofleafNodes(root))"
   ]
  }
 ],
 "metadata": {
  "kernelspec": {
   "display_name": "Python 3",
   "language": "python",
   "name": "python3"
  },
  "language_info": {
   "codemirror_mode": {
    "name": "ipython",
    "version": 3
   },
   "file_extension": ".py",
   "mimetype": "text/x-python",
   "name": "python",
   "nbconvert_exporter": "python",
   "pygments_lexer": "ipython3",
   "version": "3.9.2"
  }
 },
 "nbformat": 4,
 "nbformat_minor": 5
}

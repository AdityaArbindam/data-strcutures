{
 "cells": [
  {
   "cell_type": "code",
   "execution_count": 1,
   "id": "silver-african",
   "metadata": {},
   "outputs": [
    {
     "name": "stdout",
     "output_type": "stream",
     "text": [
      "5 4\n",
      "625\n"
     ]
    }
   ],
   "source": [
    "str=input().split()\n",
    "x,n=int(str[0]),int(str[1])\n",
    "\n",
    "def pow(x,n):\n",
    "    \n",
    "    if(n==0):\n",
    "        return 1\n",
    "    ans=x*pow(x,n-1)\n",
    "    return ans\n",
    "result=pow(x,n)\n",
    "print(result)\n"
   ]
  }
 ],
 "metadata": {
  "kernelspec": {
   "display_name": "Python 3",
   "language": "python",
   "name": "python3"
  },
  "language_info": {
   "codemirror_mode": {
    "name": "ipython",
    "version": 3
   },
   "file_extension": ".py",
   "mimetype": "text/x-python",
   "name": "python",
   "nbconvert_exporter": "python",
   "pygments_lexer": "ipython3",
   "version": "3.9.2"
  }
 },
 "nbformat": 4,
 "nbformat_minor": 5
}

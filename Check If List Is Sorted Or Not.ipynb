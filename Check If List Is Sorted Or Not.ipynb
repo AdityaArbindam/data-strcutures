{
 "cells": [
  {
   "cell_type": "code",
   "execution_count": 23,
   "id": "amber-value",
   "metadata": {},
   "outputs": [
    {
     "name": "stdout",
     "output_type": "stream",
     "text": [
      "yes it is sorted \n"
     ]
    }
   ],
   "source": [
    "li=[16,20,33,41,55,63,111,522,685,790]\n",
    "x=0\n",
    "def checksorted(li,x):\n",
    "    if(x==len(li)-1 or x==len(li)):   # this will handle base case here x==last element or if list is empty\n",
    "        print(\"yes it is sorted \")\n",
    "        return\n",
    "    if(li[x]>li[x+1]):\n",
    "        print(\"not sorted\")\n",
    "    else:\n",
    "        checksorted(li,x+1)\n",
    "    \n",
    "checksorted(li,x)"
   ]
  },
  {
   "cell_type": "markdown",
   "id": "fossil-project",
   "metadata": {},
   "source": [
    "### we will know see another kind of approach where we will not print "
   ]
  },
  {
   "cell_type": "code",
   "execution_count": 24,
   "id": "obvious-threat",
   "metadata": {},
   "outputs": [
    {
     "data": {
      "text/plain": [
       "True"
      ]
     },
     "execution_count": 24,
     "metadata": {},
     "output_type": "execute_result"
    }
   ],
   "source": [
    "li=[16,20,33,41,55,63,111,522,685,790]\n",
    "x=0\n",
    "def checksorted(li,x):\n",
    "    if(x==len(li)-1 or x==len(li)):     # this will handle base case here x==last element or if list is empty\n",
    "        return True\n",
    "    if(li[x]>li[x+1]):\n",
    "        return False\n",
    "    else:\n",
    "        return checksorted(li,x+1)\n",
    "    \n",
    "checksorted(li,x)"
   ]
  },
  {
   "cell_type": "code",
   "execution_count": 18,
   "id": "robust-process",
   "metadata": {},
   "outputs": [],
   "source": [
    "# another method:-\n",
    "\n",
    "# base case:- when there is 0 or only 1 element in the list then it will already be sorted\n",
    "# Induction hypotesis:-  it must have worked for l-1 size list\n",
    "# induction step:-  check if the 1st element> 2nd element then return false  else check for smaller list(starting from 1-end)\n",
    "\n",
    "def issorted(a):\n",
    "    length=len(a)\n",
    "    if(length==1 or length==0):\n",
    "        return True\n",
    "    if(a[0]>a[1]):\n",
    "        return False\n",
    "    smaller_list=a[1:]      # by doing the silicing we are copying element of a from 1-end in a new list Samller_list every time\n",
    "    \n",
    "    isSmaller_list=issorted(smaller_list)\n",
    "    \n",
    "    if isSmaller_list:\n",
    "        return True\n",
    "    else:\n",
    "        return False"
   ]
  },
  {
   "cell_type": "code",
   "execution_count": 20,
   "id": "regular-spectrum",
   "metadata": {},
   "outputs": [
    {
     "data": {
      "text/plain": [
       "False"
      ]
     },
     "execution_count": 20,
     "metadata": {},
     "output_type": "execute_result"
    }
   ],
   "source": [
    "a=[1,2,3,4,5,6,7,8,9,10,11,122,13,14]\n",
    "issorted(a)\n"
   ]
  }
 ],
 "metadata": {
  "kernelspec": {
   "display_name": "Python 3",
   "language": "python",
   "name": "python3"
  },
  "language_info": {
   "codemirror_mode": {
    "name": "ipython",
    "version": 3
   },
   "file_extension": ".py",
   "mimetype": "text/x-python",
   "name": "python",
   "nbconvert_exporter": "python",
   "pygments_lexer": "ipython3",
   "version": "3.9.2"
  }
 },
 "nbformat": 4,
 "nbformat_minor": 5
}

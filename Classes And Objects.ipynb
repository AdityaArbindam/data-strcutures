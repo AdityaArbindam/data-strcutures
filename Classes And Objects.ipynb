{
 "cells": [
  {
   "cell_type": "code",
   "execution_count": 1,
   "id": "irish-flush",
   "metadata": {},
   "outputs": [],
   "source": [
    "# declaring Class name Student\n",
    "\n",
    "class Student:\n",
    "    pass            # you must not left you class undefined, if you don't want it to define you must write pass keyword instead.\n"
   ]
  },
  {
   "cell_type": "code",
   "execution_count": 4,
   "id": "representative-county",
   "metadata": {},
   "outputs": [
    {
     "name": "stdout",
     "output_type": "stream",
     "text": [
      "<__main__.Student object at 0x000002532FDDAA90>\n",
      "<class '__main__.Student'>\n",
      "<class 'list'>\n"
     ]
    }
   ],
   "source": [
    "# declaring an Object\n",
    "\n",
    "s1=Student()     # an obect of student has been created\n",
    "\n",
    "print(s1)        # this tell us that it's a student object  as well as the memoray address \n",
    "\n",
    "print(type(s1))  # it telling is a student class\n",
    "\n",
    "# if you make a list and print the type of the list the list then that will say list class:-\n",
    "\n",
    "l=list()\n",
    "print(type(l))   # we can see that it is saying list class"
   ]
  },
  {
   "cell_type": "code",
   "execution_count": 6,
   "id": "novel-championship",
   "metadata": {},
   "outputs": [
    {
     "name": "stdout",
     "output_type": "stream",
     "text": [
      "<__main__.Student object at 0x000002532FDDAF40>\n",
      "<__main__.Student object at 0x000002532FDDAA60>\n"
     ]
    }
   ],
   "source": [
    "# similary we can create more student obects using the templet of the class student\n",
    "\n",
    "s2=Student()\n",
    "s3=Student()\n",
    "print(s2)\n",
    "print(s3)"
   ]
  }
 ],
 "metadata": {
  "kernelspec": {
   "display_name": "Python 3",
   "language": "python",
   "name": "python3"
  },
  "language_info": {
   "codemirror_mode": {
    "name": "ipython",
    "version": 3
   },
   "file_extension": ".py",
   "mimetype": "text/x-python",
   "name": "python",
   "nbconvert_exporter": "python",
   "pygments_lexer": "ipython3",
   "version": "3.9.2"
  }
 },
 "nbformat": 4,
 "nbformat_minor": 5
}

{
 "cells": [
  {
   "cell_type": "code",
   "execution_count": 15,
   "id": "superior-antibody",
   "metadata": {},
   "outputs": [
    {
     "name": "stdout",
     "output_type": "stream",
     "text": [
      "Name =  aditya\n",
      "Age = 24\n",
      "Percentage =  70\n"
     ]
    }
   ],
   "source": [
    "from datetime import date\n",
    "\n",
    "class Student:\n",
    "    passingPercentage = 40\n",
    "    def __init__(self,name,age=15,percentage=80):\n",
    "        self.name = name\n",
    "        self.age = age\n",
    "        self.percentage = percentage\n",
    "        \n",
    "    @classmethod\n",
    "    def fromBirthYear(cls,name,year,percentage):\n",
    "        return cls(name,date.today().year - year,percentage)\n",
    "\n",
    "    def studentDetails(self):\n",
    "        print(\"Name = \", self.name)\n",
    "        print(\"Age =\" , self.age)\n",
    "        print(\"Percentage = \", self.percentage)\n",
    "        \n",
    "s1=Student(\"parikh\")\n",
    "s1=Student.fromBirthYear(\"aditya\",1997,70)\n",
    "s1.studentDetails()"
   ]
  }
 ],
 "metadata": {
  "kernelspec": {
   "display_name": "Python 3",
   "language": "python",
   "name": "python3"
  },
  "language_info": {
   "codemirror_mode": {
    "name": "ipython",
    "version": 3
   },
   "file_extension": ".py",
   "mimetype": "text/x-python",
   "name": "python",
   "nbconvert_exporter": "python",
   "pygments_lexer": "ipython3",
   "version": "3.9.2"
  }
 },
 "nbformat": 4,
 "nbformat_minor": 5
}

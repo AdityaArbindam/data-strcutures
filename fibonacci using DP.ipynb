{
 "cells": [
  {
   "cell_type": "code",
   "execution_count": null,
   "id": "impressed-tribute",
   "metadata": {},
   "outputs": [],
   "source": [
    "# first we will do the fibonacci using recurission"
   ]
  },
  {
   "cell_type": "code",
   "execution_count": 6,
   "id": "compact-halloween",
   "metadata": {},
   "outputs": [],
   "source": [
    "def febonacci(n):\n",
    "    if n==0 or n==1:\n",
    "        return n\n",
    "    ans1=febonacci(n-1)\n",
    "    ans2=febonacci(n-2)\n",
    "    ans =ans1+ans2\n",
    "    return ans"
   ]
  },
  {
   "cell_type": "code",
   "execution_count": 15,
   "id": "starting-popularity",
   "metadata": {},
   "outputs": [
    {
     "name": "stdout",
     "output_type": "stream",
     "text": [
      "5\n"
     ]
    }
   ],
   "source": [
    "ans=febonacci(5)\n",
    "print(ans)"
   ]
  },
  {
   "cell_type": "markdown",
   "id": "secret-canyon",
   "metadata": {},
   "source": [
    "### Now we will do it using DP"
   ]
  },
  {
   "cell_type": "code",
   "execution_count": 25,
   "id": "comparative-special",
   "metadata": {},
   "outputs": [],
   "source": [
    "def DPfebonacci(n,dp):\n",
    "    if n==0 or n==1:\n",
    "        return n\n",
    "    if dp[n-1]==-1:\n",
    "        # here we are checking whether we have answer in the list or not if not we have to calculate it and put it in the list\n",
    "        \n",
    "        ans1=DPfebonacci(n-1,dp)\n",
    "        dp[n-1]=ans1              # if the answer is not there we are storing at its place in the list\n",
    "    else:\n",
    "        ans1= dp[n-1,dp]          # this means answer is in the list and we can take it from there\n",
    "        \n",
    "        \n",
    "    if dp[n-2]==-1:\n",
    "        ans2=DPfebonacci(n-2,dp)\n",
    "        dp[n-2]=ans2\n",
    "    else:\n",
    "        ans2=dp[n-2]\n",
    "        \n",
    "    return ans1+ans2\n",
    "        "
   ]
  },
  {
   "cell_type": "code",
   "execution_count": 26,
   "id": "palestinian-vulnerability",
   "metadata": {},
   "outputs": [
    {
     "name": "stdout",
     "output_type": "stream",
     "text": [
      "7\n"
     ]
    },
    {
     "data": {
      "text/plain": [
       "13"
      ]
     },
     "execution_count": 26,
     "metadata": {},
     "output_type": "execute_result"
    }
   ],
   "source": [
    "# for this we must maintain a list of size 'n+1' to store the n values of the fibonacci no's\n",
    "\n",
    "n=int(input())\n",
    "dp=[-1 for i in range(n+1)]\n",
    "DPfebonacci(n,dp)"
   ]
  },
  {
   "cell_type": "code",
   "execution_count": null,
   "id": "delayed-capital",
   "metadata": {},
   "outputs": [],
   "source": []
  }
 ],
 "metadata": {
  "kernelspec": {
   "display_name": "Python 3",
   "language": "python",
   "name": "python3"
  },
  "language_info": {
   "codemirror_mode": {
    "name": "ipython",
    "version": 3
   },
   "file_extension": ".py",
   "mimetype": "text/x-python",
   "name": "python",
   "nbconvert_exporter": "python",
   "pygments_lexer": "ipython3",
   "version": "3.9.2"
  }
 },
 "nbformat": 4,
 "nbformat_minor": 5
}

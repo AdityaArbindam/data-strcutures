{
 "cells": [
  {
   "cell_type": "code",
   "execution_count": 14,
   "id": "disabled-royalty",
   "metadata": {},
   "outputs": [
    {
     "name": "stdout",
     "output_type": "stream",
     "text": [
      "3 4 8 8 44 -1\n",
      "3->4->8->8->44->None\n"
     ]
    }
   ],
   "source": [
    "class Node:\n",
    "    \n",
    "    def __init__(self,data):\n",
    "        self.data=data\n",
    "        self.next=None\n",
    "        \n",
    "def printlist(head):\n",
    "    while head is not None:\n",
    "        print(str(head.data)+\"->\",end=\"\")\n",
    "        head=head.next\n",
    "    print(None)\n",
    "    \n",
    "def takeinput():\n",
    "    linklist=[int(ele) for ele in input().split()]\n",
    "    head=None\n",
    "    tail=None\n",
    "    for ele in linklist:\n",
    "        if ele ==-1:\n",
    "            break\n",
    "        \n",
    "        newnode=Node(ele)\n",
    "        \n",
    "        if head is None:\n",
    "            head=newnode\n",
    "            tail =head\n",
    "        \n",
    "        else:\n",
    "            tail.next=newnode\n",
    "            tail=newnode\n",
    "    \n",
    "    \n",
    "    return head\n",
    "        \n",
    "head=takeinput()\n",
    "printlist(head)"
   ]
  },
  {
   "cell_type": "markdown",
   "id": "southern-edinburgh",
   "metadata": {},
   "source": [
    "### this will have the time time complexoty of o(n) because previously for nth element we had to taverse n linklist to print it because there we always use current =head and then traves to our desire list and then add the new element  but here we  traverse through tail istself, we update tail every time a new element is added."
   ]
  }
 ],
 "metadata": {
  "kernelspec": {
   "display_name": "Python 3",
   "language": "python",
   "name": "python3"
  },
  "language_info": {
   "codemirror_mode": {
    "name": "ipython",
    "version": 3
   },
   "file_extension": ".py",
   "mimetype": "text/x-python",
   "name": "python",
   "nbconvert_exporter": "python",
   "pygments_lexer": "ipython3",
   "version": "3.9.2"
  }
 },
 "nbformat": 4,
 "nbformat_minor": 5
}

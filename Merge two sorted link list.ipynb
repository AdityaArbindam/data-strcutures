{
 "cells": [
  {
   "cell_type": "code",
   "execution_count": 13,
   "id": "atmospheric-musician",
   "metadata": {},
   "outputs": [
    {
     "name": "stdout",
     "output_type": "stream",
     "text": [
      "3 6 9 -1\n",
      "2 5 8 12 -1\n",
      "2-->  3-->  5-->  6-->  8-->  9-->  12-->  None\n"
     ]
    }
   ],
   "source": [
    "class Node :\n",
    "    def __init__(self, data) :\n",
    "        self.data = data\n",
    "        self.next = None\n",
    "\n",
    "def mergeTwoSortedLinkedLists(h1, h2):\n",
    "    head=None\n",
    "    tail=None\n",
    "    if(h1.data>h2.data):\n",
    "        head=h2\n",
    "        tail=head\n",
    "        h2=h2.next\n",
    "    else:\n",
    "        head=h1\n",
    "        tail=head\n",
    "        h1=h1.next\n",
    "    while h1 is not None and h2 is not None:\n",
    "        if h1.data>h2.data:\n",
    "            tail.next=h2\n",
    "            tail=h2\n",
    "            h2=h2.next\n",
    "        else:\n",
    "            tail.next=h1\n",
    "            tail=h1\n",
    "            h1=h1.next\n",
    "    if h1 is None:\n",
    "        tail.next=h2\n",
    "    else:\n",
    "        tail.next=h1\n",
    "    return head\n",
    "\n",
    "\n",
    "#Taking Input Using Fast I/O\n",
    "def takeInput() :\n",
    "    head = None\n",
    "    tail = None\n",
    "\n",
    "    datas =[int(ele) for ele in input().split()]\n",
    "\n",
    "    i = 0\n",
    "    while (i < len(datas)) and (datas[i] != -1) :\n",
    "        data = datas[i]\n",
    "        newNode = Node(data)\n",
    "\n",
    "        if head is None :\n",
    "            head = newNode\n",
    "            tail = newNode\n",
    "\n",
    "        else :\n",
    "            tail.next = newNode\n",
    "            tail = newNode\n",
    "\n",
    "        i += 1\n",
    "\n",
    "    return head\n",
    "\n",
    "def printLinkedList(head) :\n",
    "\n",
    "    while head is not None :\n",
    "        print(str(head.data)+\"-->\",end = \"  \")\n",
    "        head = head.next\n",
    "\n",
    "    print(None)\n",
    "\n",
    "    \n",
    "head1 = takeInput()\n",
    "head2 = takeInput()\n",
    "\n",
    "newHead = mergeTwoSortedLinkedLists(head1, head2)\n",
    "printLinkedList(newHead)"
   ]
  }
 ],
 "metadata": {
  "kernelspec": {
   "display_name": "Python 3",
   "language": "python",
   "name": "python3"
  },
  "language_info": {
   "codemirror_mode": {
    "name": "ipython",
    "version": 3
   },
   "file_extension": ".py",
   "mimetype": "text/x-python",
   "name": "python",
   "nbconvert_exporter": "python",
   "pygments_lexer": "ipython3",
   "version": "3.9.2"
  }
 },
 "nbformat": 4,
 "nbformat_minor": 5
}

{
 "cells": [
  {
   "cell_type": "markdown",
   "id": "electrical-statement",
   "metadata": {},
   "source": [
    "### Suppose you want to build a e-learning website then there will be a class name Course containing some attributes that must be haved by all the objects of this class"
   ]
  },
  {
   "cell_type": "code",
   "execution_count": 12,
   "id": "comfortable-laser",
   "metadata": {},
   "outputs": [
    {
     "name": "stdout",
     "output_type": "stream",
     "text": [
      "python\n",
      "22 april\n"
     ]
    }
   ],
   "source": [
    "class Course:\n",
    "    course_name =input()\n",
    "    start=input()"
   ]
  },
  {
   "cell_type": "code",
   "execution_count": 13,
   "id": "psychological-invite",
   "metadata": {},
   "outputs": [
    {
     "name": "stdout",
     "output_type": "stream",
     "text": [
      "python\n",
      "22 april\n"
     ]
    }
   ],
   "source": [
    "s1=Course()\n",
    "\n",
    "# the object s1 will automatically now have the attribute course_name and Start  as it is defined in the class Course \n",
    "print(s1.course_name)\n",
    "print(s1.start)"
   ]
  },
  {
   "cell_type": "code",
   "execution_count": 17,
   "id": "broke-campaign",
   "metadata": {},
   "outputs": [
    {
     "name": "stdout",
     "output_type": "stream",
     "text": [
      "python\n",
      "22 april\n"
     ]
    }
   ],
   "source": [
    "s2=Course()\n",
    "\n",
    "print(s2.course_name)  \n",
    "print(s2.start)"
   ]
  },
  {
   "cell_type": "markdown",
   "id": "liberal-emphasis",
   "metadata": {},
   "source": [
    "### The attibutes of the class Course will be there in both object s1 and s2 but there are some attributes which are not common like phone no,address,parents,age these attributes are called instance attributes"
   ]
  },
  {
   "cell_type": "code",
   "execution_count": 19,
   "id": "august-pointer",
   "metadata": {},
   "outputs": [
    {
     "name": "stdout",
     "output_type": "stream",
     "text": [
      "25\n"
     ]
    }
   ],
   "source": [
    "s1.age=25   # An instance attribute called 'age' has been created, which is possesed by s1 only and its value is 25\n",
    "print(s1.age)\n",
    "\n",
    "\n",
    "# but if you do s2.age then that will give an error beacuse you have not created age attribute for s2"
   ]
  }
 ],
 "metadata": {
  "kernelspec": {
   "display_name": "Python 3",
   "language": "python",
   "name": "python3"
  },
  "language_info": {
   "codemirror_mode": {
    "name": "ipython",
    "version": 3
   },
   "file_extension": ".py",
   "mimetype": "text/x-python",
   "name": "python",
   "nbconvert_exporter": "python",
   "pygments_lexer": "ipython3",
   "version": "3.9.2"
  }
 },
 "nbformat": 4,
 "nbformat_minor": 5
}

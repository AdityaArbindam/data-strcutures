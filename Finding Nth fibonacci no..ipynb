{
 "cells": [
  {
   "cell_type": "code",
   "execution_count": 21,
   "id": "hybrid-friend",
   "metadata": {},
   "outputs": [
    {
     "name": "stdout",
     "output_type": "stream",
     "text": [
      "4\n",
      "3\n"
     ]
    }
   ],
   "source": [
    "n=int(input())\n",
    "a=1\n",
    "b=1\n",
    "def fibonacci(n,a,b):\n",
    "    if(n==1):\n",
    "        print(a)\n",
    "        return\n",
    "    if(n==2):\n",
    "        print(b)\n",
    "        return\n",
    "    c=a+b\n",
    "    fibonacci(n-1,b,c)\n",
    "fibonacci(n,a,b)"
   ]
  },
  {
   "cell_type": "code",
   "execution_count": 23,
   "id": "blessed-chocolate",
   "metadata": {},
   "outputs": [
    {
     "name": "stdout",
     "output_type": "stream",
     "text": [
      "8\n",
      "21\n"
     ]
    }
   ],
   "source": [
    "# another method to find the nth fibonacci as, where we will not predifined a and b\n",
    "n=int(input())\n",
    "\n",
    "def fib(n):\n",
    "    if n==1 or n==2:\n",
    "        return 1\n",
    "    fib_n_1=fib(n-1)          # we use this because the nth fibonacci=n-1+n-2\n",
    "    fib_n_2=fib(n-2)\n",
    "    return fib_n_1+fib_n_2\n",
    "ans=fib(n)\n",
    "print(ans)"
   ]
  },
  {
   "cell_type": "code",
   "execution_count": null,
   "id": "canadian-antarctica",
   "metadata": {},
   "outputs": [],
   "source": [
    "# Another method where you are not printing the values of a and b \n",
    "n=int(input()) \n",
    "a=1 \n",
    "b=1\n",
    "def fibonacci(n,a,b): \n",
    "    if(n==1): \n",
    "        return a \n",
    "    if(n==2): \n",
    "        return b \n",
    "    c=a+b \n",
    "    x=fibonacci(n-1,b,c) \n",
    "    return x\n",
    "ans=fibonacci(n,a,b) \n",
    "print(ans)"
   ]
  }
 ],
 "metadata": {
  "kernelspec": {
   "display_name": "Python 3",
   "language": "python",
   "name": "python3"
  },
  "language_info": {
   "codemirror_mode": {
    "name": "ipython",
    "version": 3
   },
   "file_extension": ".py",
   "mimetype": "text/x-python",
   "name": "python",
   "nbconvert_exporter": "python",
   "pygments_lexer": "ipython3",
   "version": "3.9.2"
  }
 },
 "nbformat": 4,
 "nbformat_minor": 5
}

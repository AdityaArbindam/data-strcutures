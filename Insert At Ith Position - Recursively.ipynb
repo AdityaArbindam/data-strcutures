{
 "cells": [
  {
   "cell_type": "markdown",
   "id": "nasty-pursuit",
   "metadata": {},
   "source": [
    "### In this you are given with the head of the link list , data to be inserted into the lnk list and the position to be inserted "
   ]
  },
  {
   "cell_type": "code",
   "execution_count": 7,
   "id": "environmental-pressing",
   "metadata": {},
   "outputs": [
    {
     "name": "stdout",
     "output_type": "stream",
     "text": [
      "3 4 8 5 2 16\n",
      "3->4->8->5->2->16->None\n",
      "3->4->8->89->5->2->16->None\n"
     ]
    }
   ],
   "source": [
    "class Node:\n",
    "    def __init__(self,data):\n",
    "        self.data=data\n",
    "        self.next=None\n",
    "        \n",
    "def printlist(head):\n",
    "    while head is not None:\n",
    "        print(str(head.data)+\"->\",end=\"\")\n",
    "        head=head.next\n",
    "    print(None)\n",
    "    \n",
    "def insertrecursively(head,pos,data): \n",
    "    if pos<0:\n",
    "        return head\n",
    "    \n",
    "    if pos==0:\n",
    "        newnode=Node(data)   # this part will link the newnode with the link list and then return the reference of the new node \n",
    "        newnode.next=head\n",
    "        return newnode\n",
    "    if head is None:\n",
    "        return None\n",
    "    \n",
    "    \n",
    "    small_head=insertrecursively(head.next,pos-1,data)  # the refrence of the newnode is stored into the small_head \n",
    "    head.next=small_head                   \n",
    "    return head\n",
    "    \n",
    "def Takeinput():\n",
    "    linklist=[int(ele) for ele in input().split()]\n",
    "    head=None\n",
    "    tail=None\n",
    "    for ele in linklist:\n",
    "        if ele==-1:\n",
    "            break\n",
    "        newnode=Node(ele)\n",
    "        if head is None:\n",
    "            head=newnode\n",
    "            tail=head\n",
    "        else:\n",
    "            tail.next=newnode\n",
    "            tail=newnode\n",
    "    return head\n",
    "\n",
    "\n",
    "head =Takeinput()\n",
    "printlist(head)\n",
    "\n",
    "new_head=insertrecursively(head,3,89)\n",
    "printlist(new_head)"
   ]
  }
 ],
 "metadata": {
  "kernelspec": {
   "display_name": "Python 3",
   "language": "python",
   "name": "python3"
  },
  "language_info": {
   "codemirror_mode": {
    "name": "ipython",
    "version": 3
   },
   "file_extension": ".py",
   "mimetype": "text/x-python",
   "name": "python",
   "nbconvert_exporter": "python",
   "pygments_lexer": "ipython3",
   "version": "3.9.2"
  }
 },
 "nbformat": 4,
 "nbformat_minor": 5
}

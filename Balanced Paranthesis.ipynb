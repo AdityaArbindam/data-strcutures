{
 "cells": [
  {
   "cell_type": "code",
   "execution_count": 5,
   "id": "ecological-intention",
   "metadata": {},
   "outputs": [
    {
     "name": "stdout",
     "output_type": "stream",
     "text": [
      "\n",
      "True\n"
     ]
    }
   ],
   "source": [
    "class Node:\n",
    "    def __init__(self,data):\n",
    "        self.data=data\n",
    "        self.next=None\n",
    "        \n",
    "class Stack:\n",
    "    def __init__(self):\n",
    "        self.__head=None\n",
    "        self.__count=0\n",
    "    def push(self,data):\n",
    "        newnode=Node(data)\n",
    "        newnode.next=self.__head\n",
    "        self.__head=newnode\n",
    "        self.__count+=1\n",
    "    def pop(self):\n",
    "        if self.size()==0:\n",
    "            return \n",
    "        else:\n",
    "            self.__head=self.__head.next\n",
    "            self.__count-=1\n",
    "            \n",
    "    def size(self):\n",
    "        return self.__count\n",
    "    def isempty(self):\n",
    "        c=self.size()\n",
    "        if c==0:\n",
    "            return True\n",
    "        else:\n",
    "            return False\n",
    "        \n",
    "def isbalanced(string):\n",
    "    s=Stack()\n",
    "    for ele in string:\n",
    "        if ele=='(':\n",
    "            s.push('(')\n",
    "        else:\n",
    "            s.pop()\n",
    "    if s.isempty():\n",
    "        return True\n",
    "    else:\n",
    "        return False\n",
    "\n",
    "string=input()\n",
    "if isbalanced(string):\n",
    "    print(\"True\")\n",
    "else:\n",
    "    print(\"False\")"
   ]
  }
 ],
 "metadata": {
  "kernelspec": {
   "display_name": "Python 3",
   "language": "python",
   "name": "python3"
  },
  "language_info": {
   "codemirror_mode": {
    "name": "ipython",
    "version": 3
   },
   "file_extension": ".py",
   "mimetype": "text/x-python",
   "name": "python",
   "nbconvert_exporter": "python",
   "pygments_lexer": "ipython3",
   "version": "3.9.2"
  }
 },
 "nbformat": 4,
 "nbformat_minor": 5
}

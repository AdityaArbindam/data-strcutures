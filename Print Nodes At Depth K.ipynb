{
 "cells": [
  {
   "cell_type": "code",
   "execution_count": 30,
   "id": "secure-cause",
   "metadata": {},
   "outputs": [],
   "source": [
    "# depth of a node is nothing but the distance of that node from the root node.\n",
    "# the depth of root node is 0 as it is 0th distance from itself and the child of the root node is at depth 1 because it is \n",
    "# at distance 1 from the root node"
   ]
  },
  {
   "cell_type": "code",
   "execution_count": 31,
   "id": "outdoor-grant",
   "metadata": {},
   "outputs": [],
   "source": [
    "class binaryTree():\n",
    "    def __init__(self,data):\n",
    "        self.data=data\n",
    "        self.right=None\n",
    "        self.left=None\n",
    "        "
   ]
  },
  {
   "cell_type": "code",
   "execution_count": 32,
   "id": "light-domain",
   "metadata": {},
   "outputs": [],
   "source": [
    "def takeinput():\n",
    "    root=int(input())\n",
    "    if root ==-1:\n",
    "        return \n",
    "    rootnode=binaryTree(root)\n",
    "    left=takeinput()\n",
    "    right=takeinput()\n",
    "    rootnode.left=left\n",
    "    rootnode.right=right\n",
    "    return rootnode"
   ]
  },
  {
   "cell_type": "code",
   "execution_count": 33,
   "id": "hybrid-convertible",
   "metadata": {},
   "outputs": [],
   "source": [
    "def printTree(root):\n",
    "    if root==None:\n",
    "        return \n",
    "    print(root.data,end=':')\n",
    "    if root.left!=None:\n",
    "        print(\"L \",root.left.data,end='')\n",
    "    if root.right!=None:\n",
    "        print(\"R \",root.right.data,end='')\n",
    "    print()\n",
    "    printTree(root.left)\n",
    "    printTree(root.right)"
   ]
  },
  {
   "cell_type": "code",
   "execution_count": 34,
   "id": "external-grammar",
   "metadata": {},
   "outputs": [],
   "source": [
    "def nodeAtdepth(root,k):\n",
    "    if root==None:\n",
    "        return \n",
    "    if k==0:\n",
    "        print(root.data, end=',')\n",
    "    \n",
    "    nodeAtdepth(root.left,k-1)\n",
    "    nodeAtdepth(root.right,k-1) "
   ]
  },
  {
   "cell_type": "code",
   "execution_count": 35,
   "id": "severe-european",
   "metadata": {},
   "outputs": [],
   "source": [
    "# another method here you are not reducing the depth recurcively instead you can take your own depth and increase it recursively\n",
    "\n",
    "def nodeAtdepth2(root,k,d):\n",
    "    if root==None:\n",
    "        return \n",
    "    if d==k:\n",
    "        print(root.data,end=',')\n",
    "    nodeAtdepth2(root.left,k,d+1)\n",
    "    nodeAtdepth2(root.right,k,d+1)"
   ]
  },
  {
   "cell_type": "code",
   "execution_count": 36,
   "id": "hollow-volume",
   "metadata": {},
   "outputs": [
    {
     "name": "stdout",
     "output_type": "stream",
     "text": [
      "1\n",
      "2\n",
      "4\n",
      "-1\n",
      "-1\n",
      "5\n",
      "-1\n",
      "-1\n",
      "3\n",
      "6\n",
      "-1\n",
      "-1\n",
      "-1\n",
      "1:L  2R  3\n",
      "2:L  4R  5\n",
      "4:\n",
      "5:\n",
      "3:L  6\n",
      "6:\n",
      "4,5,6,4,5,6,"
     ]
    }
   ],
   "source": [
    "root=takeinput()\n",
    "printTree(root)\n",
    "nodeAtdepth(root,2)\n",
    "print()\n",
    "nodeAtdepth2(root,2,0)"
   ]
  }
 ],
 "metadata": {
  "kernelspec": {
   "display_name": "Python 3",
   "language": "python",
   "name": "python3"
  },
  "language_info": {
   "codemirror_mode": {
    "name": "ipython",
    "version": 3
   },
   "file_extension": ".py",
   "mimetype": "text/x-python",
   "name": "python",
   "nbconvert_exporter": "python",
   "pygments_lexer": "ipython3",
   "version": "3.9.2"
  }
 },
 "nbformat": 4,
 "nbformat_minor": 5
}

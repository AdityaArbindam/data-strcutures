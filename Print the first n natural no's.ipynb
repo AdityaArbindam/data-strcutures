{
 "cells": [
  {
   "cell_type": "code",
   "execution_count": 3,
   "id": "silent-boundary",
   "metadata": {},
   "outputs": [
    {
     "name": "stdout",
     "output_type": "stream",
     "text": [
      "10\n",
      "10 9 8 7 6 5 4 3 2 1 "
     ]
    }
   ],
   "source": [
    "# here we print form n to 1\n",
    "n=int(input())\n",
    "def printN(n):\n",
    "    if(n==0):\n",
    "        return\n",
    "    print(n,end=' ')\n",
    "    printN(n-1)\n",
    "\n",
    "printN(n)\n",
    "\n"
   ]
  },
  {
   "cell_type": "code",
   "execution_count": 5,
   "id": "disciplinary-universal",
   "metadata": {},
   "outputs": [
    {
     "name": "stdout",
     "output_type": "stream",
     "text": [
      "5\n",
      "1 2 3 4 5 "
     ]
    }
   ],
   "source": [
    "# here will try to print no. from 1 to n without using any other variable:-\n",
    "\n",
    "n=int(input())\n",
    "def printN(n):\n",
    "    if(n==0):\n",
    "        return\n",
    "    printN(n-1)     # here unlike previously we have called n-1 then n-2..0,then start printing due to which ordered has been reversed\n",
    "    print(n,end=' ')\n",
    "printN(n)\n"
   ]
  }
 ],
 "metadata": {
  "kernelspec": {
   "display_name": "Python 3",
   "language": "python",
   "name": "python3"
  },
  "language_info": {
   "codemirror_mode": {
    "name": "ipython",
    "version": 3
   },
   "file_extension": ".py",
   "mimetype": "text/x-python",
   "name": "python",
   "nbconvert_exporter": "python",
   "pygments_lexer": "ipython3",
   "version": "3.9.2"
  }
 },
 "nbformat": 4,
 "nbformat_minor": 5
}

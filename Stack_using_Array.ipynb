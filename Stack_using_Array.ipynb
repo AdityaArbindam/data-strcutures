{
 "cells": [
  {
   "cell_type": "code",
   "execution_count": 23,
   "id": "relative-invention",
   "metadata": {},
   "outputs": [],
   "source": [
    "class Stack:\n",
    "    \n",
    "    def __init__(self):   # we have created a private member name-data,so that it cannot be accesed or modified outside the \n",
    "        self.__data=[]        # class\n",
    "        \n",
    "    def push(self,item):\n",
    "        self.__data.append(item)  # this function will append the item into the stack\n",
    "        \n",
    "    def pop(self):\n",
    "        if self.isempty():  # the pop function will pop the item if its not empty else it will print the message\n",
    "            print(\"hey!! your stack is Empty\")\n",
    "        return self.__data.pop()               # we are using the default pop functionality .\n",
    "    \n",
    "    def top(self):                    # return the item at the top of the stack and is the stack is empty then it will print message\n",
    "        if self.isempty():\n",
    "            print(\"hey!! your stack is Empty\")\n",
    "        return self.__data[len(self.__data)-1]\n",
    "    \n",
    "    def size(self):\n",
    "        return len(self.__data)\n",
    "    \n",
    "    def isempty(self):\n",
    "        return self.size()==0   # this function retutn true is the function is empty else fasle is not"
   ]
  },
  {
   "cell_type": "code",
   "execution_count": 28,
   "id": "painted-worth",
   "metadata": {},
   "outputs": [
    {
     "name": "stdout",
     "output_type": "stream",
     "text": [
      "15\n",
      "False\n",
      "2\n",
      "14\n",
      "13\n",
      "True\n"
     ]
    }
   ],
   "source": [
    "s=Stack()\n",
    "s.push(13)\n",
    "s.push(14)\n",
    "s.push(15)\n",
    "print(s.pop())\n",
    "print(s.isempty())  # returning true as size is not==0\n",
    "print(s.size())     #printing the size of the stack\n",
    "print(s.pop())\n",
    "print(s.pop())\n",
    "print(s.isempty())"
   ]
  }
 ],
 "metadata": {
  "kernelspec": {
   "display_name": "Python 3",
   "language": "python",
   "name": "python3"
  },
  "language_info": {
   "codemirror_mode": {
    "name": "ipython",
    "version": 3
   },
   "file_extension": ".py",
   "mimetype": "text/x-python",
   "name": "python",
   "nbconvert_exporter": "python",
   "pygments_lexer": "ipython3",
   "version": "3.9.2"
  }
 },
 "nbformat": 4,
 "nbformat_minor": 5
}

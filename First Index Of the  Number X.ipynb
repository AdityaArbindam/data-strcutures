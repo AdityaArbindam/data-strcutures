{
 "cells": [
  {
   "cell_type": "markdown",
   "id": "artificial-azerbaijan",
   "metadata": {},
   "source": [
    "### First we will use the way where we make a new list evey time"
   ]
  },
  {
   "cell_type": "code",
   "execution_count": 12,
   "id": "mature-noise",
   "metadata": {},
   "outputs": [
    {
     "name": "stdout",
     "output_type": "stream",
     "text": [
      "100\n"
     ]
    },
    {
     "data": {
      "text/plain": [
       "6"
      ]
     },
     "execution_count": 12,
     "metadata": {},
     "output_type": "execute_result"
    }
   ],
   "source": [
    "l=[1,2,4,5,7,8,100,51,25,34,7,51]\n",
    "x=int(input())\n",
    "def Firstoccurance(l,x,i):\n",
    "    length=len(l)-1\n",
    "    if(length==1 or length==0):\n",
    "        if(l[0]==x):\n",
    "            return i \n",
    "        else:\n",
    "            print(\"not in the list\")\n",
    "            return \n",
    "    if(l[0]==x):\n",
    "        return i\n",
    "    else:\n",
    "        b=l[1:]\n",
    "        return  Firstoccurance(b,x,i+1)\n",
    "Firstoccurance(l,x,0)"
   ]
  },
  {
   "cell_type": "markdown",
   "id": "champion-binary",
   "metadata": {},
   "source": [
    "### Now we will see the approach where we will use the same list as above method is not good for sapce complexity"
   ]
  },
  {
   "cell_type": "code",
   "execution_count": 5,
   "id": "champion-shopper",
   "metadata": {},
   "outputs": [
    {
     "name": "stdout",
     "output_type": "stream",
     "text": [
      "101\n",
      "not in the list\n"
     ]
    }
   ],
   "source": [
    "l=[1,2,4,5,7,8,100,51,25,34,7,51]\n",
    "x=int(input())\n",
    "def Firstoccurance(l,x,i):\n",
    "    if(i==len(l)-1):\n",
    "        if(l[i]==x):\n",
    "            return i\n",
    "        else:\n",
    "            print(\"not in the list\")\n",
    "            return \n",
    "    if(l[i]==x):\n",
    "        return i\n",
    "    else:\n",
    "        return  Firstoccurance(l,x,i+1)\n",
    "Firstoccurance(l,x,0)"
   ]
  }
 ],
 "metadata": {
  "kernelspec": {
   "display_name": "Python 3",
   "language": "python",
   "name": "python3"
  },
  "language_info": {
   "codemirror_mode": {
    "name": "ipython",
    "version": 3
   },
   "file_extension": ".py",
   "mimetype": "text/x-python",
   "name": "python",
   "nbconvert_exporter": "python",
   "pygments_lexer": "ipython3",
   "version": "3.9.2"
  }
 },
 "nbformat": 4,
 "nbformat_minor": 5
}

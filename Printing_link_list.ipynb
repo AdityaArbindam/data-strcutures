{
 "cells": [
  {
   "cell_type": "code",
   "execution_count": 11,
   "id": "fewer-legend",
   "metadata": {},
   "outputs": [
    {
     "name": "stdout",
     "output_type": "stream",
     "text": [
      "3 4 8 9 -1\n",
      "3-> 4-> 8-> 9-> None\n"
     ]
    }
   ],
   "source": [
    "class Node:\n",
    "    def __init__(self,data):\n",
    "        self.data=data\n",
    "        self.next=None\n",
    "        \n",
    "def printlinklist(head):\n",
    "    while head is not None:\n",
    "        print(str(head.data)+\"->\",end=\" \") # we cannot concatenate int with str so we converted (head.data) into a string\n",
    "        head=head.next\n",
    "    print(None)\n",
    "        \n",
    "def takeInput():\n",
    "    LinkList=[int(ele) for ele in input().split()]\n",
    "    head=None\n",
    "    for ele in LinkList:\n",
    "        if (ele==-1):\n",
    "            break\n",
    "        Newnode=Node(ele)\n",
    "        \n",
    "        \n",
    "        if head is None:\n",
    "            head=Newnode\n",
    "        else:\n",
    "            current =head\n",
    "            while current.next is not None:\n",
    "                current=current.next\n",
    "            current.next=Newnode\n",
    "    return head\n",
    "\n",
    "head=takeInput()\n",
    "\n",
    "\n",
    "# we already understand the working of above code in linklist-1 now we will see how we can print the element in the link list\n",
    "\n",
    "printlinklist(head)   # this is the function made to print the link list by passing the address of head to the local-head  \n",
    "                      # of the printlinklist function\n",
    "    \n",
    "    \n",
    "    \n",
    "\n"
   ]
  }
 ],
 "metadata": {
  "kernelspec": {
   "display_name": "Python 3",
   "language": "python",
   "name": "python3"
  },
  "language_info": {
   "codemirror_mode": {
    "name": "ipython",
    "version": 3
   },
   "file_extension": ".py",
   "mimetype": "text/x-python",
   "name": "python",
   "nbconvert_exporter": "python",
   "pygments_lexer": "ipython3",
   "version": "3.9.2"
  }
 },
 "nbformat": 4,
 "nbformat_minor": 5
}

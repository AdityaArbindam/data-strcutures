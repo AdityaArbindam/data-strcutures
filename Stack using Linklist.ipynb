{
 "cells": [
  {
   "cell_type": "code",
   "execution_count": 19,
   "id": "collected-ireland",
   "metadata": {},
   "outputs": [
    {
     "name": "stdout",
     "output_type": "stream",
     "text": [
      "4\n",
      "4\n",
      "3\n",
      "2\n"
     ]
    }
   ],
   "source": [
    "class Node:\n",
    "    def __init__(self,data):\n",
    "        self.data=data\n",
    "        self.next=None\n",
    "\n",
    "class Stack:\n",
    "    \n",
    "    def __init__(self):       # we make private members head and count throught the constructor so that they cannot be modified\n",
    "        self.__head=None      # outside the class\n",
    "        self.__count=0\n",
    "    \n",
    "    def push(self,item):         # this is the function to push data into the stack\n",
    "        newnode=Node(item)\n",
    "        newnode.next=self.__head\n",
    "        self.__head=newnode\n",
    "        self.__count+=1\n",
    "    \n",
    "    def pop(self):                     # function to pop data if present else return -1\n",
    "        if self.isempty() is True:\n",
    "            print(\"hey !! stack is empty\")\n",
    "            return -1\n",
    "        else:\n",
    "            data=self.__head.data\n",
    "            self.__head=self.__head.next\n",
    "            self.__count-=1\n",
    "            return data\n",
    "            \n",
    "    def top(self):                      # function tells data on the top of the stack and return -1 if no data is present\n",
    "        if self.isempty() is True:\n",
    "            print(\"hey !! stack is empty\")\n",
    "            return -1\n",
    "        else:\n",
    "            data= self.__head.data\n",
    "            return data\n",
    "        \n",
    "    def size(self):\n",
    "        return self.__count\n",
    "    \n",
    "    def isempty(self):\n",
    "        return self.size()==0\n",
    "    \n",
    "s=Stack()\n",
    "s.push(2)\n",
    "s.push(3)\n",
    "s.push(4)\n",
    "print(s.top())\n",
    "\n",
    "while s.isempty() is False:       # we will pop till  the stack is not get empty.\n",
    "    print(s.pop())\n",
    "    "
   ]
  }
 ],
 "metadata": {
  "kernelspec": {
   "display_name": "Python 3",
   "language": "python",
   "name": "python3"
  },
  "language_info": {
   "codemirror_mode": {
    "name": "ipython",
    "version": 3
   },
   "file_extension": ".py",
   "mimetype": "text/x-python",
   "name": "python",
   "nbconvert_exporter": "python",
   "pygments_lexer": "ipython3",
   "version": "3.9.2"
  }
 },
 "nbformat": 4,
 "nbformat_minor": 5
}

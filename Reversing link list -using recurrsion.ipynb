{
 "cells": [
  {
   "cell_type": "code",
   "execution_count": 4,
   "id": "sacred-staff",
   "metadata": {},
   "outputs": [
    {
     "name": "stdout",
     "output_type": "stream",
     "text": [
      "3 4 8 1 451 5\n",
      "3->4->8->1->451->5->None\n",
      "5->451->1->8->4->3->None\n"
     ]
    }
   ],
   "source": [
    "class Node:\n",
    "    def __init__(self,data):\n",
    "        self.data=data\n",
    "        self.next=None\n",
    "        \n",
    "def printlist(head):\n",
    "    while head is not None:\n",
    "        print(str(head.data)+\"->\",end=\"\")\n",
    "        head=head.next\n",
    "    print(None)\n",
    "    \n",
    "    \n",
    "def reverselist(head):\n",
    "    if head is None:\n",
    "        return \n",
    "    if head.next is None:\n",
    "        return head\n",
    "    smallhead=reverselist(head.next)   \n",
    "    tail=head                         \n",
    "    while tail.next is not None:\n",
    "        tail=tail.next\n",
    "    tail.next=head\n",
    "    head.next=None\n",
    "    return smallhead\n",
    "        \n",
    "    \n",
    "def takeinput():\n",
    "    linklist=[int(ele) for ele in input().split()]\n",
    "    head=None\n",
    "    tail=None\n",
    "    for ele in linklist:\n",
    "        if ele ==-1:\n",
    "            break\n",
    "        newnode=Node(ele)\n",
    "        if head is None:\n",
    "            head=newnode\n",
    "            tail=head\n",
    "        else:\n",
    "            tail.next=newnode\n",
    "            tail=tail.next\n",
    "    return head\n",
    "\n",
    "head=takeinput()\n",
    "printlist(head)\n",
    "\n",
    "head=reverselist(head)\n",
    "printlist(head)"
   ]
  },
  {
   "cell_type": "code",
   "execution_count": null,
   "id": "international-nursery",
   "metadata": {},
   "outputs": [],
   "source": [
    "## the time complexity for this method is o(n2)"
   ]
  }
 ],
 "metadata": {
  "kernelspec": {
   "display_name": "Python 3",
   "language": "python",
   "name": "python3"
  },
  "language_info": {
   "codemirror_mode": {
    "name": "ipython",
    "version": 3
   },
   "file_extension": ".py",
   "mimetype": "text/x-python",
   "name": "python",
   "nbconvert_exporter": "python",
   "pygments_lexer": "ipython3",
   "version": "3.9.2"
  }
 },
 "nbformat": 4,
 "nbformat_minor": 5
}

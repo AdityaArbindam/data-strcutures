{
 "cells": [
  {
   "cell_type": "code",
   "execution_count": 2,
   "id": "lucky-attraction",
   "metadata": {},
   "outputs": [
    {
     "name": "stdout",
     "output_type": "stream",
     "text": [
      "3 4 8 14 7 -1\n",
      "3->4->8->14->7->None\n",
      "7->14->8->4->3->None\n"
     ]
    }
   ],
   "source": [
    "class Node:\n",
    "    def __init__(self,data):\n",
    "        self.data=data\n",
    "        self.next=None\n",
    "        \n",
    "def printlist(head):\n",
    "    while head is not None:\n",
    "        print(str(head.data)+\"->\",end=\"\")\n",
    "        head=head.next\n",
    "    print(None)\n",
    "\n",
    "def reverse(head):\n",
    "    if head is None or head.next is None:\n",
    "        return head,head\n",
    "    smallhead,smalltail=reverse(head.next)\n",
    "    smalltail.next=head\n",
    "    head.next=None\n",
    "    return smallhead,head\n",
    "    \n",
    "def takeinput():\n",
    "    linklist=[int(ele) for ele in input().split()]\n",
    "    head=None\n",
    "    tail=None\n",
    "    for ele in linklist:\n",
    "        if ele ==-1:\n",
    "            break\n",
    "        newnode=Node(ele)\n",
    "        if head is None:\n",
    "            head=newnode\n",
    "            tail=head\n",
    "        else:\n",
    "            tail.next=newnode\n",
    "            tail=tail.next\n",
    "    return head\n",
    "\n",
    "head=takeinput()\n",
    "printlist(head)\n",
    "\n",
    "\n",
    "h1,t1=reverse(head)\n",
    "printlist(h1)"
   ]
  },
  {
   "cell_type": "code",
   "execution_count": 3,
   "id": "indonesian-elder",
   "metadata": {},
   "outputs": [],
   "source": [
    "# here the timecomplexity has reduced to o(n)  because we are not travering every time to find the tail, but the function\n",
    "# itself returning the tail of the link list"
   ]
  }
 ],
 "metadata": {
  "kernelspec": {
   "display_name": "Python 3",
   "language": "python",
   "name": "python3"
  },
  "language_info": {
   "codemirror_mode": {
    "name": "ipython",
    "version": 3
   },
   "file_extension": ".py",
   "mimetype": "text/x-python",
   "name": "python",
   "nbconvert_exporter": "python",
   "pygments_lexer": "ipython3",
   "version": "3.9.2"
  }
 },
 "nbformat": 4,
 "nbformat_minor": 5
}

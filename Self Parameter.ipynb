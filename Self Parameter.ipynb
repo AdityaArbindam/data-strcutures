{
 "cells": [
  {
   "cell_type": "code",
   "execution_count": 3,
   "id": "accurate-indonesian",
   "metadata": {},
   "outputs": [
    {
     "name": "stdout",
     "output_type": "stream",
     "text": [
      "name= aditya Arbindam\n",
      "roll= R110216010\n"
     ]
    }
   ],
   "source": [
    "class Student:\n",
    "    def studendetailes(self):           # in self s1 is stored\n",
    "        self.name=\"aditya Arbindam\"     # this line actually means s1.name =\"adityaarbindam\" the name attr. is stored in s1\n",
    "        self.roll=\"R110216010\"\n",
    "        print(\"name=\",self.name)\n",
    "        print(\"roll=\",self.roll)\n",
    "    \n",
    "s1=Student()\n",
    "Student.studendetailes(s1)   # Student is the class in which you want to acces studentdetail function through object s1"
   ]
  },
  {
   "cell_type": "markdown",
   "id": "explicit-television",
   "metadata": {},
   "source": [
    "##### A Question may arrise that why we used self.name=\"adityaarbindam\" ....why not we directly have used name=\"adityaarbindam\" because if we do self.name then the name attribute is created in s1 and the name attribute can be used in other functions for ex:-"
   ]
  },
  {
   "cell_type": "code",
   "execution_count": 24,
   "id": "mobile-knight",
   "metadata": {},
   "outputs": [
    {
     "name": "stdout",
     "output_type": "stream",
     "text": [
      "yes student passed\n"
     ]
    }
   ],
   "source": [
    "class College:\n",
    "    passing=40\n",
    "    def Studentdetails(self):  # s2 is passed inside self\n",
    "        self.name=\"ankur\"\n",
    "        self.percentage=80\n",
    "        pass\n",
    "        # name and percentage attribute is made inside s1 object\n",
    "        \n",
    "    def ifpassed(self):\n",
    "        if(self.percentage>College.passing):  # the instance attribute percentage is compared with class attribute passing\n",
    "            print(\"yes student passed\")\n",
    "        else:\n",
    "            print(\"no not passed\")\n",
    "s2=College()\n",
    "College.Studentdetails(s2)  # here we have called the function Studentdetails inside the class College and s2 is passed\n",
    "s2.ifpassed()   # here you can also have done College.ifpassed(s2) it will work the same"
   ]
  },
  {
   "cell_type": "markdown",
   "id": "political-copyright",
   "metadata": {},
   "source": [
    "####  It must be remember that if we had done percentage=80 instead of self.percentage =80 then that will give and error because through that we would not have been able to make attribute percentage inside s2 and thus we whould have got an error percentage is not define inside ifpassed function."
   ]
  },
  {
   "cell_type": "markdown",
   "id": "exciting-kernel",
   "metadata": {},
   "source": [
    "## Another example"
   ]
  },
  {
   "cell_type": "code",
   "execution_count": 25,
   "id": "tutorial-investigation",
   "metadata": {},
   "outputs": [
    {
     "name": "stdout",
     "output_type": "stream",
     "text": [
      "Parikh 60\n"
     ]
    }
   ],
   "source": [
    "class Studen:\n",
    "    name = \"Parikh\"             # this is an class attribute this will be in every object of class studen\n",
    "    def store_details(self):\n",
    "        self.age = 60            # an attribute name age is made inside the object s\n",
    "    def print_details(self):\n",
    "        print(self.name, end=\" \")  # as name is an class attribute this will not give error\n",
    "        print(self.age)            # age attribute has already been made under s so this will also not gove any error\n",
    "\n",
    "s = Studen()\n",
    "s.store_details()            # storedetails method is called inside the studen class using s object\n",
    "s.print_details()\n"
   ]
  },
  {
   "cell_type": "markdown",
   "id": "occasional-plain",
   "metadata": {},
   "source": [
    "## Another Example"
   ]
  },
  {
   "cell_type": "code",
   "execution_count": 10,
   "id": "dynamic-coast",
   "metadata": {},
   "outputs": [
    {
     "name": "stdout",
     "output_type": "stream",
     "text": [
      "my name is aditya\n"
     ]
    }
   ],
   "source": [
    "class person:\n",
    "    def info(self,x,y):\n",
    "        self.name=x\n",
    "        self.age=y\n",
    "    def mani(self):\n",
    "        print(\"my name is \"+self.name)\n",
    "p1=person()\n",
    "p1.info(\"aditya\",24)\n",
    "p1.mani()"
   ]
  }
 ],
 "metadata": {
  "kernelspec": {
   "display_name": "Python 3",
   "language": "python",
   "name": "python3"
  },
  "language_info": {
   "codemirror_mode": {
    "name": "ipython",
    "version": 3
   },
   "file_extension": ".py",
   "mimetype": "text/x-python",
   "name": "python",
   "nbconvert_exporter": "python",
   "pygments_lexer": "ipython3",
   "version": "3.9.2"
  }
 },
 "nbformat": 4,
 "nbformat_minor": 5
}

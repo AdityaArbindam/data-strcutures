{
 "cells": [
  {
   "cell_type": "code",
   "execution_count": 8,
   "id": "clean-request",
   "metadata": {},
   "outputs": [
    {
     "name": "stdout",
     "output_type": "stream",
     "text": [
      "xxxyyyzwwzzz\n"
     ]
    },
    {
     "data": {
      "text/plain": [
       "'xyzwz'"
      ]
     },
     "execution_count": 8,
     "metadata": {},
     "output_type": "execute_result"
    }
   ],
   "source": [
    "def replaceDuplicates(string,i):\n",
    "    str1=\"\"\n",
    "    if(i==len(string)):\n",
    "        return str1\n",
    "    a=string[i]\n",
    "    while(i<len(string)):\n",
    "        if(string[i]!=a):\n",
    "            break\n",
    "        i+=1\n",
    "    str1=str1+string[i-1]\n",
    "    return str1+replaceDuplicates(string,i)\n",
    "    \n",
    "    \n",
    "string=input()\n",
    "replaceDuplicates(string,0)"
   ]
  },
  {
   "cell_type": "markdown",
   "id": "crazy-recorder",
   "metadata": {},
   "source": [
    "### Another method\n"
   ]
  },
  {
   "cell_type": "code",
   "execution_count": 9,
   "id": "smart-oxygen",
   "metadata": {},
   "outputs": [
    {
     "name": "stdout",
     "output_type": "stream",
     "text": [
      "xxxyxae;rpppp\n",
      "xyxae;rp\n"
     ]
    }
   ],
   "source": [
    "def removeConsecutiveDuplicates(string):\n",
    "    if len(string) == 0 or len(string) == 1:\n",
    "        return string\n",
    "    \n",
    "    if string[0] != string[1]:\n",
    "        smallOutput = removeConsecutiveDuplicates(string[1:])\n",
    "        return string[0] + smallOutput\n",
    "    else:\n",
    "        smallOutput = removeConsecutiveDuplicates(string[1:])\n",
    "        return smallOutput\n",
    "\n",
    "\n",
    "# Main\n",
    "string = input()\n",
    "\n",
    "print(removeConsecutiveDuplicates(string))"
   ]
  }
 ],
 "metadata": {
  "kernelspec": {
   "display_name": "Python 3",
   "language": "python",
   "name": "python3"
  },
  "language_info": {
   "codemirror_mode": {
    "name": "ipython",
    "version": 3
   },
   "file_extension": ".py",
   "mimetype": "text/x-python",
   "name": "python",
   "nbconvert_exporter": "python",
   "pygments_lexer": "ipython3",
   "version": "3.9.2"
  }
 },
 "nbformat": 4,
 "nbformat_minor": 5
}

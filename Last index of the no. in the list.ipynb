{
 "cells": [
  {
   "cell_type": "code",
   "execution_count": 5,
   "id": "baking-surgery",
   "metadata": {},
   "outputs": [
    {
     "name": "stdout",
     "output_type": "stream",
     "text": [
      "10\n",
      "1 2 3 4 5 6 7 8 5 10\n",
      "5\n",
      "8\n"
     ]
    }
   ],
   "source": [
    "n=int(input())\n",
    "str=input().split()\n",
    "x=int(input())\n",
    "arr=[]\n",
    "for i in range(n):\n",
    "    arr.append(int(str[i]))\n",
    "    \n",
    "    \n",
    "def lastindex(arr,x,i):\n",
    "    if(i==0):\n",
    "        return -1\n",
    "    if(arr[i]==x):\n",
    "        return i\n",
    "    else:\n",
    "        return lastindex(arr,x,i-1)\n",
    "    \n",
    "i=len(arr)-1 \n",
    "ans=lastindex(arr,x,i)\n",
    "print(ans)\n",
    "    "
   ]
  }
 ],
 "metadata": {
  "kernelspec": {
   "display_name": "Python 3",
   "language": "python",
   "name": "python3"
  },
  "language_info": {
   "codemirror_mode": {
    "name": "ipython",
    "version": 3
   },
   "file_extension": ".py",
   "mimetype": "text/x-python",
   "name": "python",
   "nbconvert_exporter": "python",
   "pygments_lexer": "ipython3",
   "version": "3.9.2"
  }
 },
 "nbformat": 4,
 "nbformat_minor": 5
}

{
 "cells": [
  {
   "cell_type": "code",
   "execution_count": 3,
   "id": "linear-spectrum",
   "metadata": {},
   "outputs": [
    {
     "name": "stdout",
     "output_type": "stream",
     "text": [
      "[1, 2, 3, 4, 5]\n",
      "5\n",
      "[1, 2, 3, 4]\n"
     ]
    }
   ],
   "source": [
    "# is look previously then we get to know that a stack can be implemented through the functions we use in a list like append,pop\n",
    "\n",
    "s=[1,2,3]\n",
    "\n",
    "# now if you want to append an element in the list we use append i.e\n",
    "s.append(4)\n",
    "s.append(5)\n",
    "\n",
    "print(s)\n",
    "\n",
    "\n",
    "# if we want to pop the top element we can simply use inbuilt pop function for the list i.e\n",
    "# the top elemnet now is 5 so 5 must be poped out\n",
    "print(s.pop())\n",
    "\n",
    "print(s)"
   ]
  },
  {
   "cell_type": "code",
   "execution_count": 1,
   "id": "dental-invasion",
   "metadata": {},
   "outputs": [],
   "source": [
    "# For queue we cannot use these inbuilt function because in queue we use FIFO not LIFO and pop will always give the last elment\n",
    "# appended into the list not the first element.\n",
    "\n",
    "# for ex s=[1,2,3,4,5] in which 5 is appended currently so according to queue 1 should be poped we can delete pop but then we \n",
    "# have to shift the positions of all the remainig elements and that will cost us o(n)\n",
    "\n",
    "# so to use list as a queue we have a inbuilt library called queue, we must import it and use the function Queue() present there"
   ]
  },
  {
   "cell_type": "code",
   "execution_count": 6,
   "id": "relevant-championship",
   "metadata": {},
   "outputs": [
    {
     "name": "stdout",
     "output_type": "stream",
     "text": [
      "1\n",
      "2\n",
      "3\n",
      "4\n"
     ]
    }
   ],
   "source": [
    "# inbuilt Queue library \n",
    "\n",
    "import queue\n",
    "q=queue.Queue()\n",
    "\n",
    "q.put(1)   # the put function in the queue class will queue elemts in the queue\n",
    "q.put(2)\n",
    "q.put(3)\n",
    "q.put(4)\n",
    "\n",
    "while  q.empty()is False :   # the empty() function in the queue class will return True if queue is empty else Flase\n",
    "    print(q.get())            # q.get will pop the element which is queued first i.e 1,2,3,4"
   ]
  },
  {
   "cell_type": "code",
   "execution_count": 9,
   "id": "generic-birmingham",
   "metadata": {},
   "outputs": [
    {
     "name": "stdout",
     "output_type": "stream",
     "text": [
      "4\n",
      "3\n",
      "2\n",
      "1\n"
     ]
    }
   ],
   "source": [
    "# we can also use stack using this queue class , it contains a LifoQueue() which will work as class\n",
    "\n",
    "stack=queue.LifoQueue()\n",
    "stack.put(1)\n",
    "stack.put(2)\n",
    "stack.put(3)\n",
    "stack.put(4)\n",
    "\n",
    "while stack.empty() is False:\n",
    "    print(stack.get())\n",
    "    \n",
    "    \n",
    "    \n",
    "#we can clearly see that elements are poping in a LIFO manner which is the property of Stack"
   ]
  },
  {
   "cell_type": "markdown",
   "id": "needed-nirvana",
   "metadata": {},
   "source": [
    "### why we using This becasue we already know how to implement satck and queue using linklist"
   ]
  },
  {
   "cell_type": "code",
   "execution_count": null,
   "id": "honest-worse",
   "metadata": {},
   "outputs": [],
   "source": [
    "# because in the interview "
   ]
  }
 ],
 "metadata": {
  "kernelspec": {
   "display_name": "Python 3",
   "language": "python",
   "name": "python3"
  },
  "language_info": {
   "codemirror_mode": {
    "name": "ipython",
    "version": 3
   },
   "file_extension": ".py",
   "mimetype": "text/x-python",
   "name": "python",
   "nbconvert_exporter": "python",
   "pygments_lexer": "ipython3",
   "version": "3.9.2"
  }
 },
 "nbformat": 4,
 "nbformat_minor": 5
}

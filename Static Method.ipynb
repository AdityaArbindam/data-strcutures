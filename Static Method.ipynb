{
 "cells": [
  {
   "cell_type": "markdown",
   "id": "studied-producer",
   "metadata": {},
   "source": [
    "#### Decorators are very powerful and useful tool in Python since it allows programmers to modify the behavior of function or class. Decorators allow us to wrap another function in order to extend the behavior of the wrapped function, without permanently modifying it. But before diving deep into decorators let us understand some concepts that will come in handy in learning the decorators."
   ]
  },
  {
   "cell_type": "code",
   "execution_count": 6,
   "id": "continuous-messenger",
   "metadata": {},
   "outputs": [
    {
     "name": "stdout",
     "output_type": "stream",
     "text": [
      "Name =  Parikh\n",
      "Percentage =  80\n",
      "Name =  Parikh\n",
      "Percentage =  80\n",
      "Student is passed\n",
      "Hey! Welcome To School\n"
     ]
    }
   ],
   "source": [
    "class Student:\n",
    "\n",
    "    passingPercentage = 40\n",
    "\n",
    "    def studentDetails(self):\n",
    "        self.name = \"Parikh\"\n",
    "        print(\"Name = \", self.name)\n",
    "        self.percentage = 80\n",
    "        print(\"Percentage = \", self.percentage)\n",
    "        pass\n",
    "\n",
    "    def isPassed(self):\n",
    "        if self.percentage > Student.passingPercentage:\n",
    "            print(\"Student is passed\")\n",
    "        else:\n",
    "            print(\"Student is not passed\")\n",
    "\n",
    "    @staticmethod                           # here staticmethod decorater is used         \n",
    "    def welcomeToSchool():                  # no self argeument is there in the method as we have used the decorator above\n",
    "        print(\"Hey! Welcome To School\")\n",
    "\n",
    "s1 = Student()\n",
    "s1.studentDetails()\n",
    "Student.studentDetails(s1)\n",
    "s1.isPassed()\n",
    "s1.welcomeToSchool()       \n",
    "\n",
    "#class_name.function(object_name)"
   ]
  }
 ],
 "metadata": {
  "kernelspec": {
   "display_name": "Python 3",
   "language": "python",
   "name": "python3"
  },
  "language_info": {
   "codemirror_mode": {
    "name": "ipython",
    "version": 3
   },
   "file_extension": ".py",
   "mimetype": "text/x-python",
   "name": "python",
   "nbconvert_exporter": "python",
   "pygments_lexer": "ipython3",
   "version": "3.9.2"
  }
 },
 "nbformat": 4,
 "nbformat_minor": 5
}

{
 "cells": [
  {
   "cell_type": "code",
   "execution_count": 34,
   "id": "hollow-handy",
   "metadata": {},
   "outputs": [],
   "source": [
    "class binaryTree:\n",
    "    def __init__(self,data):\n",
    "        self.data=data\n",
    "        self.left=None\n",
    "        self.right=None"
   ]
  },
  {
   "cell_type": "code",
   "execution_count": 35,
   "id": "marine-anniversary",
   "metadata": {},
   "outputs": [],
   "source": [
    "def printbinary(root):\n",
    "    if root==None:\n",
    "        return\n",
    "    print(root.data)\n",
    "    printbinary(root.left)\n",
    "    printbinary(root.right)\n",
    "    \n",
    "# this function is  printing the nodes data but we need the detailed output in which we can know what are the childs of the root node"
   ]
  },
  {
   "cell_type": "code",
   "execution_count": 36,
   "id": "chronic-investigator",
   "metadata": {},
   "outputs": [],
   "source": [
    "def printbinary1(root):\n",
    "    if root==None:\n",
    "        return \n",
    "    print(root.data, end=':')\n",
    "    if root.left!=None:\n",
    "        print(\"L\"+ str(root.left.data),end=',')\n",
    "    if root.right!=None:\n",
    "        print(\"R\"+str(root.right.data),end='')\n",
    "    print()\n",
    "    printbinary1(root.left)\n",
    "    printbinary1(root.right)\n",
    "    \n",
    "# this function will print the details of the child in that root node aswell"
   ]
  },
  {
   "cell_type": "code",
   "execution_count": 37,
   "id": "small-season",
   "metadata": {},
   "outputs": [],
   "source": [
    "b1=binaryTree(1)\n",
    "b2=binaryTree(2)\n",
    "b3=binaryTree(3)\n",
    "b4=binaryTree(4)\n",
    "b5=binaryTree(5)\n",
    "\n",
    "b1.left=b2\n",
    "b1.right=b3\n",
    "b2.left=b4\n",
    "b4.right=b5"
   ]
  },
  {
   "cell_type": "code",
   "execution_count": 39,
   "id": "correct-murder",
   "metadata": {},
   "outputs": [
    {
     "name": "stdout",
     "output_type": "stream",
     "text": [
      "1:L2,R3\n",
      "2:L4,\n",
      "4:R5\n",
      "5:\n",
      "3:\n"
     ]
    }
   ],
   "source": [
    "#printbinary(b1)\n",
    "printbinary1(b1)"
   ]
  }
 ],
 "metadata": {
  "kernelspec": {
   "display_name": "Python 3",
   "language": "python",
   "name": "python3"
  },
  "language_info": {
   "codemirror_mode": {
    "name": "ipython",
    "version": 3
   },
   "file_extension": ".py",
   "mimetype": "text/x-python",
   "name": "python",
   "nbconvert_exporter": "python",
   "pygments_lexer": "ipython3",
   "version": "3.9.2"
  }
 },
 "nbformat": 4,
 "nbformat_minor": 5
}

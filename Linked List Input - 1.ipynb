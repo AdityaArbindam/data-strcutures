{
 "cells": [
  {
   "cell_type": "markdown",
   "id": "sized-indiana",
   "metadata": {},
   "source": [
    "### we will see how to take inputs of nodes from the user in a space seperaated manner.\n",
    "### we will put -1 at last of all the inputs which will confirm that our input is over."
   ]
  },
  {
   "cell_type": "code",
   "execution_count": 7,
   "id": "approximate-counter",
   "metadata": {},
   "outputs": [
    {
     "name": "stdout",
     "output_type": "stream",
     "text": [
      "5 4 7 8 -1\n"
     ]
    }
   ],
   "source": [
    "class Node:\n",
    "    def __init__(self,data):\n",
    "        self.data=data\n",
    "        self.next=None\n",
    "    \n",
    "    \n",
    "    \n",
    "# takeInput()  will return the head of the link list.    \n",
    "# this function will take input from the list convert it into integers then give it to Node class to make nodes of the link list\n",
    "# At first head is none till a node is not created , then head will point to the first node\n",
    "#  we put current =head and we run loop till the current.next is not equall to none then after finding the none we will \n",
    "# attach the newly created node to the previous node by doing current.next=newnode\n",
    "\n",
    "\n",
    "def takeInput():\n",
    "    LinkList=[int(ele) for ele in input().split()]\n",
    "    head=None\n",
    "    for ele in LinkList:\n",
    "        if (ele==-1):\n",
    "            break\n",
    "        Newnode=Node(ele)\n",
    "        \n",
    "        \n",
    "        if head is None:\n",
    "            head=Newnode\n",
    "        else:\n",
    "            current =head\n",
    "            while current.next is not None:\n",
    "                current=current.next\n",
    "            current.next=Newnode\n",
    "    return head\n",
    "\n",
    "head=takeInput()\n",
    "    "
   ]
  },
  {
   "cell_type": "code",
   "execution_count": null,
   "id": "specified-supplement",
   "metadata": {},
   "outputs": [],
   "source": [
    "### This is not an efective way to do coding for the link list as it has a time complexity o(n2)"
   ]
  }
 ],
 "metadata": {
  "kernelspec": {
   "display_name": "Python 3",
   "language": "python",
   "name": "python3"
  },
  "language_info": {
   "codemirror_mode": {
    "name": "ipython",
    "version": 3
   },
   "file_extension": ".py",
   "mimetype": "text/x-python",
   "name": "python",
   "nbconvert_exporter": "python",
   "pygments_lexer": "ipython3",
   "version": "3.9.2"
  }
 },
 "nbformat": 4,
 "nbformat_minor": 5
}

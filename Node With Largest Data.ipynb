{
 "cells": [
  {
   "cell_type": "code",
   "execution_count": 1,
   "id": "associate-software",
   "metadata": {},
   "outputs": [],
   "source": [
    "class binarytree:\n",
    "    def __init__(self,data):\n",
    "        self.data=data\n",
    "        self.right=None\n",
    "        self.left=None\n"
   ]
  },
  {
   "cell_type": "code",
   "execution_count": 2,
   "id": "adjacent-module",
   "metadata": {},
   "outputs": [],
   "source": [
    "def printbinary(root):\n",
    "    if root==None:\n",
    "        return \n",
    "    print(root.data,end=':')\n",
    "    if root.left!=None:\n",
    "        print(\"L \",root.left.data,end=',')\n",
    "    if root.right!=None:\n",
    "        print(\"r \",root.right.data,end='')\n",
    "    print()\n",
    "    printbinary(root.left)\n",
    "    printbinary(root.right)"
   ]
  },
  {
   "cell_type": "code",
   "execution_count": 3,
   "id": "occupied-rates",
   "metadata": {},
   "outputs": [],
   "source": [
    "def takeinput():          # here we take input from the user if its not -1 then we consider it as a node and make a node using \n",
    "    node=int(input())     # binarytree class then we take the left and right child input using recurssion and append into the \n",
    "    if node==-1:          # left and right of the root node\n",
    "        return None\n",
    "    rootnode=binarytree(node)\n",
    "    leftnode=takeinput()\n",
    "    rightnode=takeinput()\n",
    "    rootnode.left=leftnode\n",
    "    rootnode.right=rightnode\n",
    "    return rootnode"
   ]
  },
  {
   "cell_type": "code",
   "execution_count": 5,
   "id": "chubby-spoke",
   "metadata": {},
   "outputs": [],
   "source": [
    "def largestnode(root):    # this will traverse through the binary tree and return the largest node.\n",
    "    if root==None:\n",
    "        return -1\n",
    "    l1=largestnode(root.left)\n",
    "    l2=largestnode(root.right)\n",
    "    return max(l1,l2,root.data)\n",
    "    \n",
    "    "
   ]
  },
  {
   "cell_type": "code",
   "execution_count": 6,
   "id": "bored-raleigh",
   "metadata": {},
   "outputs": [
    {
     "name": "stdout",
     "output_type": "stream",
     "text": [
      "10\n",
      "20\n",
      "5\n",
      "-1\n",
      "-1\n",
      "9\n",
      "-1\n",
      "-1\n",
      "3\n",
      "-1\n",
      "-1\n",
      "10:L  20,r  3\n",
      "20:L  5,r  9\n",
      "5:\n",
      "9:\n",
      "3:\n",
      "20\n"
     ]
    }
   ],
   "source": [
    "root=takeinput()\n",
    "printbinary(root)\n",
    "print(largestnode(root))"
   ]
  }
 ],
 "metadata": {
  "kernelspec": {
   "display_name": "Python 3",
   "language": "python",
   "name": "python3"
  },
  "language_info": {
   "codemirror_mode": {
    "name": "ipython",
    "version": 3
   },
   "file_extension": ".py",
   "mimetype": "text/x-python",
   "name": "python",
   "nbconvert_exporter": "python",
   "pygments_lexer": "ipython3",
   "version": "3.9.2"
  }
 },
 "nbformat": 4,
 "nbformat_minor": 5
}

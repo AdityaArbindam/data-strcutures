{
 "cells": [
  {
   "cell_type": "code",
   "execution_count": 8,
   "id": "floral-italian",
   "metadata": {},
   "outputs": [
    {
     "name": "stdout",
     "output_type": "stream",
     "text": [
      "13\n",
      "<__main__.node object at 0x0000026521A4BC10>\n",
      "<__main__.node object at 0x0000026521A4BC10>\n",
      "15\n",
      "15\n",
      "None\n"
     ]
    }
   ],
   "source": [
    "class node:\n",
    "    def __init__(self,data):    # as all the link list must ahve data into it thats why the data is put under the init function\n",
    "        self.data=data\n",
    "        self.next= None        # next stores the reference of the next node..here initially we put null at all the reference\n",
    "a=node(13)\n",
    "b=node(15)\n",
    "\n",
    "a.next=b   # putting the reference of b into the next of a\n",
    "\n",
    "print(a.data)\n",
    "print(a.next)    # reference of b is printed here\n",
    "print(b)         # reference of b is printed \n",
    "\n",
    "# we can see clearly in the ouput that the address of b and the address inside the a.next is same\n",
    "\n",
    "print(b.data)\n",
    "print(a.next.data)\n",
    "print(b.next)       # none will be printed"
   ]
  }
 ],
 "metadata": {
  "kernelspec": {
   "display_name": "Python 3",
   "language": "python",
   "name": "python3"
  },
  "language_info": {
   "codemirror_mode": {
    "name": "ipython",
    "version": 3
   },
   "file_extension": ".py",
   "mimetype": "text/x-python",
   "name": "python",
   "nbconvert_exporter": "python",
   "pygments_lexer": "ipython3",
   "version": "3.9.2"
  }
 },
 "nbformat": 4,
 "nbformat_minor": 5
}

{
 "cells": [
  {
   "cell_type": "code",
   "execution_count": 2,
   "id": "close-frederick",
   "metadata": {},
   "outputs": [
    {
     "name": "stdout",
     "output_type": "stream",
     "text": [
      "6\n",
      "2 6 8 5 4 3\n",
      "[2, 3, 4, 5, 6, 8]\n"
     ]
    }
   ],
   "source": [
    "# this will divide the list into samller parts till its length not become zero\n",
    "\n",
    "def mergeSort(arr):\n",
    "    # Please add your code here\n",
    "    \n",
    "    if(len(arr)==0 or len(arr)==1):\n",
    "        return arr\n",
    "    mid=len(arr)//2\n",
    "    a=mergeSort(arr[0:mid:])\n",
    "    b=mergeSort(arr[mid:])\n",
    "    list=merge(a,b)             # here we call merge to merge two list a and b \n",
    "    return list\n",
    "    pass\n",
    "\n",
    "\n",
    "\n",
    "\n",
    "def merge(l1,l2):   # merge function will merge the two list in a sorted order and return the merged list back to mergesort\n",
    "    list=[]\n",
    "    i,j=0,0\n",
    "    while(i<len(l1) and j<len(l2)):\n",
    "        if(l1[i]<=l2[j]):\n",
    "            list.append(l1[i])\n",
    "            i+=1\n",
    "        else:\n",
    "            list.append(l2[j])\n",
    "            j+=1\n",
    "    while(j<len(l2)):\n",
    "        list.append(l2[j])\n",
    "        j+=1\n",
    "            \n",
    "    while(i<len(l1)):\n",
    "        list.append(l1[i])\n",
    "        i+=1\n",
    "    return list\n",
    "\n",
    "# Main\n",
    "\n",
    "n=int(input())\n",
    "\n",
    "arr=list(int(i) for i in input().split(' '))\n",
    "\n",
    "li=mergeSort(arr)\n",
    "\n",
    "print(li)"
   ]
  },
  {
   "cell_type": "markdown",
   "id": "unauthorized-lyric",
   "metadata": {},
   "source": [
    "### Method told by TA"
   ]
  },
  {
   "cell_type": "code",
   "execution_count": 1,
   "id": "spectacular-trade",
   "metadata": {},
   "outputs": [
    {
     "name": "stdout",
     "output_type": "stream",
     "text": [
      "6\n",
      "2 6 8 5 4 9\n",
      "2 4 5 6 8 9\n"
     ]
    }
   ],
   "source": [
    "def merge(s1,s2,arr):\n",
    "    i=0\n",
    "    j=0\n",
    "    k=0\n",
    "    while i<len(s1) and j<len(s2):\n",
    "        if s1[i]<s2[j]:\n",
    "            arr[k]=s1[i]\n",
    "            i=i+1\n",
    "            k=k+1\n",
    "        else:\n",
    "            arr[k]=s2[j]\n",
    "            j=j+1\n",
    "            k=k+1\n",
    "    while i<len(s1):\n",
    "        arr[k]=s1[i]\n",
    "        k=k+1\n",
    "        i=i+1\n",
    "    while j<len(s2):\n",
    "        arr[k]=s2[j]\n",
    "        k=k+1\n",
    "        j=j+1\n",
    "    return arr\n",
    "\n",
    "def mergeSort(arr):\n",
    "    l=len(arr)\n",
    "    if l==0 or l==1:\n",
    "        return \n",
    "    mid=l//2\n",
    "    s1=arr[0:mid]\n",
    "    s2=arr[mid:]\n",
    "    mergeSort(s1)\n",
    "    mergeSort(s2)\n",
    "    return merge(s1,s2,arr)\n",
    "\n",
    "n=int(input())\n",
    "arr=[int(x) for x in input().strip().split(' ')]\n",
    "print(*mergeSort(arr))"
   ]
  }
 ],
 "metadata": {
  "kernelspec": {
   "display_name": "Python 3",
   "language": "python",
   "name": "python3"
  },
  "language_info": {
   "codemirror_mode": {
    "name": "ipython",
    "version": 3
   },
   "file_extension": ".py",
   "mimetype": "text/x-python",
   "name": "python",
   "nbconvert_exporter": "python",
   "pygments_lexer": "ipython3",
   "version": "3.9.2"
  }
 },
 "nbformat": 4,
 "nbformat_minor": 5
}

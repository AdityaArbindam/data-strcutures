{
 "cells": [
  {
   "cell_type": "code",
   "execution_count": 1,
   "id": "clean-medicaid",
   "metadata": {},
   "outputs": [
    {
     "name": "stdout",
     "output_type": "stream",
     "text": [
      "xaxb\n",
      "ab\n"
     ]
    }
   ],
   "source": [
    "def removeX(string): \n",
    "    if(len(string)==0):\n",
    "        return string\n",
    "    smalloutput=removeX(string[1:])\n",
    "    if(string[0]=='x'):\n",
    "        return smalloutput\n",
    "    else:\n",
    "        return string[0]+smalloutput\n",
    "    pass\n",
    "\n",
    "# Main\n",
    "string = input()\n",
    "print(removeX(string))\n"
   ]
  },
  {
   "cell_type": "markdown",
   "id": "furnished-market",
   "metadata": {},
   "source": [
    "### Using another method\n"
   ]
  },
  {
   "cell_type": "code",
   "execution_count": 3,
   "id": "better-cyprus",
   "metadata": {},
   "outputs": [
    {
     "name": "stdout",
     "output_type": "stream",
     "text": [
      "xaxxbadamfamax\n"
     ]
    },
    {
     "data": {
      "text/plain": [
       "'abadamfama'"
      ]
     },
     "execution_count": 3,
     "metadata": {},
     "output_type": "execute_result"
    }
   ],
   "source": [
    "def removex(string,i):\n",
    "    str1=\"\"\n",
    "    if(i==len(string)):\n",
    "        return str1\n",
    "    if(string[i]!='x'):\n",
    "        str1=str1+string[i]\n",
    "    return str1+removex(string,i+1)\n",
    "\n",
    "string =input()\n",
    "removex(string,0)"
   ]
  }
 ],
 "metadata": {
  "kernelspec": {
   "display_name": "Python 3",
   "language": "python",
   "name": "python3"
  },
  "language_info": {
   "codemirror_mode": {
    "name": "ipython",
    "version": 3
   },
   "file_extension": ".py",
   "mimetype": "text/x-python",
   "name": "python",
   "nbconvert_exporter": "python",
   "pygments_lexer": "ipython3",
   "version": "3.9.2"
  }
 },
 "nbformat": 4,
 "nbformat_minor": 5
}

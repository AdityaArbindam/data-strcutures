{
 "cells": [
  {
   "cell_type": "markdown",
   "id": "likely-operations",
   "metadata": {},
   "source": [
    "### Here we will see how attributes in an obeject can be added if there is nothing in the Class"
   ]
  },
  {
   "cell_type": "code",
   "execution_count": 1,
   "id": "extended-width",
   "metadata": {},
   "outputs": [],
   "source": [
    "class Student:\n",
    "    pass\n"
   ]
  },
  {
   "cell_type": "code",
   "execution_count": 2,
   "id": "happy-gabriel",
   "metadata": {},
   "outputs": [],
   "source": [
    "# we create three objects s1,s2,s3 of student class\n",
    "s1=Student()\n",
    "s2=Student()\n",
    "s3=Student()"
   ]
  },
  {
   "cell_type": "code",
   "execution_count": 40,
   "id": "sealed-quality",
   "metadata": {},
   "outputs": [],
   "source": [
    "s1.name=\"aditya\"\n",
    "s1.roll=\"R110216010\"\n",
    "\n",
    "s2.name=\"Harshit\"\n",
    "s2.roll=\"R11\"\n",
    "s3.roll=\"R110216009\"\n",
    "# the object s1 have name and rollno now but s2 have only name and s3 have only rollno."
   ]
  },
  {
   "cell_type": "code",
   "execution_count": 25,
   "id": "dense-titanium",
   "metadata": {},
   "outputs": [
    {
     "name": "stdout",
     "output_type": "stream",
     "text": [
      "aditya\n",
      "R110216010\n"
     ]
    },
    {
     "ename": "AttributeError",
     "evalue": "'Student' object has no attribute 'name'",
     "output_type": "error",
     "traceback": [
      "\u001b[1;31m---------------------------------------------------------------------------\u001b[0m",
      "\u001b[1;31mAttributeError\u001b[0m                            Traceback (most recent call last)",
      "\u001b[1;32m<ipython-input-25-29b5331d1be5>\u001b[0m in \u001b[0;36m<module>\u001b[1;34m\u001b[0m\n\u001b[0;32m      4\u001b[0m \u001b[0mprint\u001b[0m\u001b[1;33m(\u001b[0m\u001b[0ms1\u001b[0m\u001b[1;33m.\u001b[0m\u001b[0mroll\u001b[0m\u001b[1;33m)\u001b[0m\u001b[1;33m\u001b[0m\u001b[1;33m\u001b[0m\u001b[0m\n\u001b[0;32m      5\u001b[0m \u001b[1;33m\u001b[0m\u001b[0m\n\u001b[1;32m----> 6\u001b[1;33m \u001b[0mprint\u001b[0m\u001b[1;33m(\u001b[0m\u001b[0ms3\u001b[0m\u001b[1;33m.\u001b[0m\u001b[0mname\u001b[0m\u001b[1;33m)\u001b[0m   \u001b[1;31m# this gives error as you have not defined the name of s3\u001b[0m\u001b[1;33m\u001b[0m\u001b[1;33m\u001b[0m\u001b[0m\n\u001b[0m",
      "\u001b[1;31mAttributeError\u001b[0m: 'Student' object has no attribute 'name'"
     ]
    }
   ],
   "source": [
    "# you can acess the name and the roll no of the individual student by:-\n",
    "\n",
    "print(s1.name)\n",
    "print(s1.roll)\n",
    "\n",
    "print(s3.name)   # this gives error as you have not defined the name of s3"
   ]
  },
  {
   "cell_type": "code",
   "execution_count": 26,
   "id": "timely-efficiency",
   "metadata": {},
   "outputs": [
    {
     "data": {
      "text/plain": [
       "{'roll': 'R11', 'name': 'Harshit'}"
      ]
     },
     "execution_count": 26,
     "metadata": {},
     "output_type": "execute_result"
    }
   ],
   "source": [
    "# we can see using dic keyword what are all the attributes and object is having:-\n",
    "\n",
    "s2.__dict__"
   ]
  },
  {
   "cell_type": "markdown",
   "id": "fiscal-powder",
   "metadata": {},
   "source": [
    "### 'hasattr' Method to check if an attribute belongs to the object or not?"
   ]
  },
  {
   "cell_type": "code",
   "execution_count": 31,
   "id": "violent-dragon",
   "metadata": {},
   "outputs": [
    {
     "name": "stdout",
     "output_type": "stream",
     "text": [
      "True\n",
      "True\n",
      "False\n"
     ]
    }
   ],
   "source": [
    "# For this we will use a method 'hasattr' it takes two arguments 1) name of the object 2) name of the attribute \n",
    "# The hasattr returns ans in boolean  forex:-\n",
    "\n",
    "print(hasattr(s1,\"name\"))\n",
    "print(hasattr(s1,\"roll\"))\n",
    "print(hasattr(s1,\"address\"))  # the object s1 don't have attributes name address and thus returns False"
   ]
  },
  {
   "cell_type": "markdown",
   "id": "buried-frost",
   "metadata": {},
   "source": [
    "### 'getattr' Method to get the value of the attribute of an object"
   ]
  },
  {
   "cell_type": "code",
   "execution_count": 32,
   "id": "indonesian-current",
   "metadata": {},
   "outputs": [
    {
     "data": {
      "text/plain": [
       "'aditya'"
      ]
     },
     "execution_count": 32,
     "metadata": {},
     "output_type": "execute_result"
    }
   ],
   "source": [
    "getattr(s1,\"name\")"
   ]
  },
  {
   "cell_type": "code",
   "execution_count": 33,
   "id": "according-fellowship",
   "metadata": {},
   "outputs": [
    {
     "ename": "AttributeError",
     "evalue": "'Student' object has no attribute 'name'",
     "output_type": "error",
     "traceback": [
      "\u001b[1;31m---------------------------------------------------------------------------\u001b[0m",
      "\u001b[1;31mAttributeError\u001b[0m                            Traceback (most recent call last)",
      "\u001b[1;32m<ipython-input-33-db4b756292ff>\u001b[0m in \u001b[0;36m<module>\u001b[1;34m\u001b[0m\n\u001b[1;32m----> 1\u001b[1;33m \u001b[0mgetattr\u001b[0m\u001b[1;33m(\u001b[0m\u001b[0ms3\u001b[0m\u001b[1;33m,\u001b[0m\u001b[1;34m\"name\"\u001b[0m\u001b[1;33m)\u001b[0m\u001b[1;33m\u001b[0m\u001b[1;33m\u001b[0m\u001b[0m\n\u001b[0m",
      "\u001b[1;31mAttributeError\u001b[0m: 'Student' object has no attribute 'name'"
     ]
    }
   ],
   "source": [
    "getattr(s3,\"name\")  # s3 is not having name attribute and thus giving an error"
   ]
  },
  {
   "cell_type": "code",
   "execution_count": 35,
   "id": "regular-vacation",
   "metadata": {},
   "outputs": [
    {
     "data": {
      "text/plain": [
       "'Achal'"
      ]
     },
     "execution_count": 35,
     "metadata": {},
     "output_type": "execute_result"
    }
   ],
   "source": [
    "# we can see this gives an error but using getattr method we can handle this error by passing third value to the mthod\n",
    "\n",
    "getattr(s3,\"name\",\"Achal\")  # here if the there is no attribute called name then it will print default value \"Achal\""
   ]
  },
  {
   "cell_type": "code",
   "execution_count": 36,
   "id": "mighty-guinea",
   "metadata": {},
   "outputs": [
    {
     "data": {
      "text/plain": [
       "'aditya'"
      ]
     },
     "execution_count": 36,
     "metadata": {},
     "output_type": "execute_result"
    }
   ],
   "source": [
    "getattr(s1,\"name\",\"Achal\")   # here we already have s1.name =aditya so it will print aditya not Achal"
   ]
  },
  {
   "cell_type": "markdown",
   "id": "consolidated-tragedy",
   "metadata": {},
   "source": [
    "### 'delattr' Method to get the value of the attribute of an object"
   ]
  },
  {
   "cell_type": "code",
   "execution_count": 41,
   "id": "willing-seller",
   "metadata": {},
   "outputs": [
    {
     "data": {
      "text/plain": [
       "{'roll': 'R110216010'}"
      ]
     },
     "execution_count": 41,
     "metadata": {},
     "output_type": "execute_result"
    }
   ],
   "source": [
    "delattr(s1,\"name\")  # this will delete the name attribute of s1\n",
    "\n",
    "s1.__dict__    # we can see that the name attribute of object s1 has been deleted"
   ]
  }
 ],
 "metadata": {
  "kernelspec": {
   "display_name": "Python 3",
   "language": "python",
   "name": "python3"
  },
  "language_info": {
   "codemirror_mode": {
    "name": "ipython",
    "version": 3
   },
   "file_extension": ".py",
   "mimetype": "text/x-python",
   "name": "python",
   "nbconvert_exporter": "python",
   "pygments_lexer": "ipython3",
   "version": "3.9.2"
  }
 },
 "nbformat": 4,
 "nbformat_minor": 5
}

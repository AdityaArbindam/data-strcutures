{
 "cells": [
  {
   "cell_type": "code",
   "execution_count": 13,
   "id": "persistent-attempt",
   "metadata": {},
   "outputs": [
    {
     "name": "stdout",
     "output_type": "stream",
     "text": [
      "0\n",
      "False\n"
     ]
    }
   ],
   "source": [
    "li=[1,2,5,7,20,122,545,654,784,842,945,966,977,982,2100]\n",
    "\n",
    "def binarysearch(li,a,start,end):\n",
    "    mid=(start+end)//2\n",
    "    if(start>end):                 # if the start and end crosses each other we will return False\n",
    "        return False\n",
    "    if(li[mid]==a):                # if the li[mid] will be equal to the given no then we will return True\n",
    "        return True\n",
    "    elif(a>li[mid]):                \n",
    "         return binarysearch(li,a,mid+1,end)  # here we again have call the binarysearch where start is updated by mid+1\n",
    "    else:\n",
    "        return binarysearch(li,a,start,mid-1) # here end will be updated by mid -1 as the no is smaller then li[mid]\n",
    "   \n",
    "           \n",
    "a=int(input())\n",
    "print(binarysearch(li,a,0,len(li)-1))\n",
    "    "
   ]
  }
 ],
 "metadata": {
  "kernelspec": {
   "display_name": "Python 3",
   "language": "python",
   "name": "python3"
  },
  "language_info": {
   "codemirror_mode": {
    "name": "ipython",
    "version": 3
   },
   "file_extension": ".py",
   "mimetype": "text/x-python",
   "name": "python",
   "nbconvert_exporter": "python",
   "pygments_lexer": "ipython3",
   "version": "3.9.2"
  }
 },
 "nbformat": 4,
 "nbformat_minor": 5
}

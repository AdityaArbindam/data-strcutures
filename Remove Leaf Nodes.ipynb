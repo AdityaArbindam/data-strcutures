{
 "cells": [
  {
   "cell_type": "code",
   "execution_count": 7,
   "id": "warming-switch",
   "metadata": {},
   "outputs": [],
   "source": [
    "class binaryTree():\n",
    "    def __init__(self,data):\n",
    "        self.data=data\n",
    "        self.right=None\n",
    "        self.left=None\n",
    "        "
   ]
  },
  {
   "cell_type": "code",
   "execution_count": 8,
   "id": "pacific-graduate",
   "metadata": {},
   "outputs": [],
   "source": [
    "def takeinput():\n",
    "    root=int(input())\n",
    "    if root==-1:\n",
    "        return \n",
    "    rootnode=binaryTree(root)\n",
    "    l1=takeinput()\n",
    "    l2=takeinput()\n",
    "    rootnode.left=l1\n",
    "    rootnode.right=l2\n",
    "    return rootnode"
   ]
  },
  {
   "cell_type": "code",
   "execution_count": 9,
   "id": "amber-directive",
   "metadata": {},
   "outputs": [],
   "source": [
    "def Removeleaf(root):\n",
    "    if root ==None:\n",
    "        return\n",
    "    if root.left==None and root.right==None:\n",
    "        root.data=None\n",
    "    Removeleaf(root.left)\n",
    "    Removeleaf(root.right)"
   ]
  },
  {
   "cell_type": "code",
   "execution_count": 10,
   "id": "smaller-sequence",
   "metadata": {},
   "outputs": [],
   "source": [
    "def printbinary(root):\n",
    "    if root==None:\n",
    "        return\n",
    "    print(root.data,end=':')\n",
    "    if root.left!=None:\n",
    "        print(\"L\",root.left.data,end='')\n",
    "    if root.right!=None:\n",
    "        print(\"R\",root.right.data,end='')\n",
    "    print()\n",
    "    printbinary(root.left)\n",
    "    printbinary(root.right)"
   ]
  },
  {
   "cell_type": "code",
   "execution_count": 11,
   "id": "young-donna",
   "metadata": {},
   "outputs": [
    {
     "name": "stdout",
     "output_type": "stream",
     "text": [
      "1\n",
      "2\n",
      "4\n",
      "-1\n",
      "-1\n",
      "5\n",
      "-1\n",
      "-1\n",
      "3\n",
      "6\n",
      "-1\n",
      "-1\n",
      "-1\n",
      "1:L 2R 3\n",
      "2:L 4R 5\n",
      "4:\n",
      "5:\n",
      "3:L 6\n",
      "6:\n",
      "\n",
      "1:L 2R 3\n",
      "2:L NoneR None\n",
      "None:\n",
      "None:\n",
      "3:L None\n",
      "None:\n"
     ]
    }
   ],
   "source": [
    "root=takeinput()\n",
    "printbinary(root)   # tree before the removal of leaf Nodes\n",
    "print()\n",
    "Removeleaf(root)\n",
    "printbinary(root)   # tree after removal of leaf Nodes"
   ]
  }
 ],
 "metadata": {
  "kernelspec": {
   "display_name": "Python 3",
   "language": "python",
   "name": "python3"
  },
  "language_info": {
   "codemirror_mode": {
    "name": "ipython",
    "version": 3
   },
   "file_extension": ".py",
   "mimetype": "text/x-python",
   "name": "python",
   "nbconvert_exporter": "python",
   "pygments_lexer": "ipython3",
   "version": "3.9.2"
  }
 },
 "nbformat": 4,
 "nbformat_minor": 5
}

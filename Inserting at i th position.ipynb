{
 "cells": [
  {
   "cell_type": "code",
   "execution_count": 23,
   "id": "nutritional-solution",
   "metadata": {},
   "outputs": [
    {
     "name": "stdout",
     "output_type": "stream",
     "text": [
      "3 4 9 8 7 6\n",
      "3->4->9->8->7->6->None\n",
      "enter the element you want to enter\n",
      "72\n",
      "enter the position you want to enter\n",
      "0\n",
      "72->3->4->9->8->7->6->None\n"
     ]
    }
   ],
   "source": [
    "class Node:\n",
    "    def __init__(self,data):\n",
    "        self.data=data\n",
    "        self.next=None\n",
    "        \n",
    "        \n",
    "def length(head):\n",
    "    count=0\n",
    "    while head is not None:\n",
    "        count+=1\n",
    "        head=head.next\n",
    "        \n",
    "    return count\n",
    "\n",
    "\n",
    "def insertinto(head,newnode,i):\n",
    "    if i<0 or i>length(head):\n",
    "        return head\n",
    "    count=0\n",
    "    prev=None\n",
    "    current=head\n",
    "    \n",
    "    while(count<i):\n",
    "        pre=current\n",
    "        current=current.next\n",
    "        count+=1\n",
    "    if prev is not None:\n",
    "        prev.next=newnode\n",
    "    else:\n",
    "        head=newnode\n",
    "    newnode.next=current\n",
    "    return head\n",
    "        \n",
    "    \n",
    "def printlist(head):\n",
    "    while head is not None:\n",
    "        print(str(head.data)+\"->\",end=\"\")\n",
    "        head=head.next\n",
    "    print(None)\n",
    "        \n",
    "def takeinput():\n",
    "    linklist=[int(ele) for ele in input().split()]\n",
    "    head=None\n",
    "    tail=None\n",
    "    for ele in linklist:\n",
    "        if ele== -1:\n",
    "            break\n",
    "        newnode=Node(ele)\n",
    "        if head is None:\n",
    "            head=newnode\n",
    "            tail=newnode\n",
    "        else:\n",
    "            tail.next=newnode\n",
    "            tail=tail.next\n",
    "    return head\n",
    "\n",
    "\n",
    "head=takeinput()\n",
    "printlist(head)\n",
    "\n",
    "print(\"enter the element you want to enter\")\n",
    "node=int(input())\n",
    "newnode=Node(node)\n",
    "\n",
    "print(\"enter the position you want to enter\")\n",
    "i=int(input())\n",
    "\n",
    "\n",
    "new_head=insertinto(head,newnode,i)\n",
    "printlist(new_head)"
   ]
  }
 ],
 "metadata": {
  "kernelspec": {
   "display_name": "Python 3",
   "language": "python",
   "name": "python3"
  },
  "language_info": {
   "codemirror_mode": {
    "name": "ipython",
    "version": 3
   },
   "file_extension": ".py",
   "mimetype": "text/x-python",
   "name": "python",
   "nbconvert_exporter": "python",
   "pygments_lexer": "ipython3",
   "version": "3.9.2"
  }
 },
 "nbformat": 4,
 "nbformat_minor": 5
}

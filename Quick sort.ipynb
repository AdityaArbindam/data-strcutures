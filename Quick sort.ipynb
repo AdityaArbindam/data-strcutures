{
 "cells": [
  {
   "cell_type": "code",
   "execution_count": 1,
   "id": "elect-prefix",
   "metadata": {},
   "outputs": [
    {
     "name": "stdout",
     "output_type": "stream",
     "text": [
      "6\n",
      "2 6 8 5 4 3\n",
      "2 3 4 5 6 8\n"
     ]
    }
   ],
   "source": [
    "def quickSort(arr, start, end):\n",
    "    if(start>=end):      # Base case of the function to stop teh recursion  \n",
    "        return \n",
    "    index=partition(arr,start,end)\n",
    "    quickSort(arr,start,index-1)\n",
    "    quickSort(arr,index+1,end)\n",
    "    \n",
    "\n",
    "# partion function is used to find the pivot index and return it \n",
    "def partition(arr,start,end):\n",
    "    count=0\n",
    "    pivot=arr[start]\n",
    "    i=start+1\n",
    "    while(i<=end):\n",
    "        if(pivot>arr[i]):\n",
    "            count+=1\n",
    "        i+=1\n",
    "    arr[start],arr[start+count]=arr[start+count],arr[start]\n",
    "    index=start+count\n",
    "    si=start\n",
    "    ei=end\n",
    "    while(si<ei):\n",
    "        if(arr[si]<pivot):\n",
    "            si+=1\n",
    "        elif(arr[ei]>=pivot):\n",
    "            ei-=1\n",
    "        else:\n",
    "            arr[si],arr[ei]=arr[ei],arr[si]\n",
    "            si+=1\n",
    "            ei-=1\n",
    "    return index\n",
    "\n",
    "\n",
    "n=int(input())\n",
    "arr=list(int(i) for i in input().strip().split(' '))\n",
    "quickSort(arr, 0, n-1)\n",
    "print(*arr)"
   ]
  }
 ],
 "metadata": {
  "kernelspec": {
   "display_name": "Python 3",
   "language": "python",
   "name": "python3"
  },
  "language_info": {
   "codemirror_mode": {
    "name": "ipython",
    "version": 3
   },
   "file_extension": ".py",
   "mimetype": "text/x-python",
   "name": "python",
   "nbconvert_exporter": "python",
   "pygments_lexer": "ipython3",
   "version": "3.9.2"
  }
 },
 "nbformat": 4,
 "nbformat_minor": 5
}

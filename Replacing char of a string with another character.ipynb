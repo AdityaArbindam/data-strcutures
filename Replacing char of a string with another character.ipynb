{
 "cells": [
  {
   "cell_type": "code",
   "execution_count": 12,
   "id": "radio-master",
   "metadata": {},
   "outputs": [
    {
     "name": "stdout",
     "output_type": "stream",
     "text": [
      "aditya\n",
      "a\n",
      "b\n",
      "bdityb\n"
     ]
    }
   ],
   "source": [
    "str=input()\n",
    "chr1=input()\n",
    "chr2=input()\n",
    "def replace(str,i,chr1,chr2):\n",
    "    str1=\"\"\n",
    "    if(i==len(str)):               # this is the base case where it return the empty string when i==lenght of str\n",
    "        return str1\n",
    "    if(str[i]==chr1):\n",
    "        str1=str1+chr2\n",
    "    else:\n",
    "        str1=str1+str[i]\n",
    "    return str1+ replace(str,i+1,chr1,chr2)\n",
    "\n",
    "# whatever the replace will return it will be concate with existing str1 and returned\n",
    "    \n",
    "    \n",
    "print(replace(str,0,chr1,chr2))"
   ]
  },
  {
   "cell_type": "markdown",
   "id": "infinite-breakfast",
   "metadata": {},
   "source": [
    "### In the above method we can see that we have passed the index i also , then what is you must have to only pass string, char1 and char2?\n",
    "\n",
    "### Here we will see how to do this using a method of slicing"
   ]
  },
  {
   "cell_type": "code",
   "execution_count": 19,
   "id": "pretty-lying",
   "metadata": {},
   "outputs": [
    {
     "name": "stdout",
     "output_type": "stream",
     "text": [
      "arbindam aditya\n",
      "a\n",
      "x\n",
      "xrbindxm xdityx\n"
     ]
    }
   ],
   "source": [
    "str2=input()\n",
    "chr1=input()\n",
    "chr2=input()\n",
    "def replacechr(str2,chr1,chr2):\n",
    "    str1=\"\"\n",
    "    if(len(str2)==0):\n",
    "        return str1\n",
    "    if(str2[0]==chr1):\n",
    "        str1=str1+chr2\n",
    "    else:\n",
    "        str1=str1+str2[0]\n",
    "    return str1+replacechr(str2[1:],chr1,chr2)\n",
    "    \n",
    "    \n",
    "print(replacechr(str2,chr1,chr2))"
   ]
  },
  {
   "cell_type": "markdown",
   "id": "imperial-rabbit",
   "metadata": {},
   "source": [
    "## Method told by Sir"
   ]
  },
  {
   "cell_type": "code",
   "execution_count": 21,
   "id": "advised-blanket",
   "metadata": {},
   "outputs": [
    {
     "data": {
      "text/plain": [
       "'bdityba'"
      ]
     },
     "execution_count": 21,
     "metadata": {},
     "output_type": "execute_result"
    }
   ],
   "source": [
    "def Replacechr(strx,a,b):\n",
    "    if(len(strx)==0):\n",
    "        return a\n",
    "    smalloutput=Replacechr(strx[1:],a,b)\n",
    "    if(strx[0]==a):\n",
    "        return b+smalloutput\n",
    "    else:\n",
    "        return strx[0]+smalloutput\n",
    "Replacechr(\"aditya\",'a','b')"
   ]
  }
 ],
 "metadata": {
  "kernelspec": {
   "display_name": "Python 3",
   "language": "python",
   "name": "python3"
  },
  "language_info": {
   "codemirror_mode": {
    "name": "ipython",
    "version": 3
   },
   "file_extension": ".py",
   "mimetype": "text/x-python",
   "name": "python",
   "nbconvert_exporter": "python",
   "pygments_lexer": "ipython3",
   "version": "3.9.2"
  }
 },
 "nbformat": 4,
 "nbformat_minor": 5
}

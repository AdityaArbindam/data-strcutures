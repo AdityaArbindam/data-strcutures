{
 "cells": [
  {
   "cell_type": "markdown",
   "id": "public-collar",
   "metadata": {},
   "source": [
    "#### The __init__ method is similar to constructors in C++ and Java. here we can see that we have not called __init__ but as it is the constructor it will be automatically called when the object of that class is made.\n",
    "#### For every object made it will be called once's"
   ]
  },
  {
   "cell_type": "code",
   "execution_count": 1,
   "id": "blond-wales",
   "metadata": {},
   "outputs": [
    {
     "name": "stdout",
     "output_type": "stream",
     "text": [
      "Hello, my name is Nikhil\n"
     ]
    }
   ],
   "source": [
    "# A Sample class with init method  \n",
    "class Person:  \n",
    "      \n",
    "    # init method or constructor   \n",
    "    def __init__(self, name):  \n",
    "        self.name = name  \n",
    "      \n",
    "    # Sample Method   \n",
    "    def say_hi(self):  \n",
    "        print('Hello, my name is', self.name)  \n",
    "      \n",
    "p = Person('Nikhil')  \n",
    "p.say_hi()  "
   ]
  },
  {
   "cell_type": "markdown",
   "id": "encouraging-panama",
   "metadata": {},
   "source": [
    "### Understanding the code :-In the above example, a person name Nikhil is created. While creating a person, “Nikhil” is passed as an argument, this argument will be passed to the __init__ method to initialize the object. The keyword self represents the instance of a class and binds the attributes with the given arguments. Similarly, many objects of Person class can be created by passing different names as arguments."
   ]
  },
  {
   "cell_type": "code",
   "execution_count": 9,
   "id": "digital-concrete",
   "metadata": {},
   "outputs": [
    {
     "name": "stdout",
     "output_type": "stream",
     "text": [
      "Varun\n",
      "26\n",
      "90\n"
     ]
    }
   ],
   "source": [
    "class Student:\n",
    "\n",
    "    passingPercentage = 40\n",
    "    def __init__(self,name,age=15,percentage=80):\n",
    "        self.name = name\n",
    "        self.age = age\n",
    "        self.percentage = percentage\n",
    "        \n",
    "    def Print(self):\n",
    "        print(self.name)\n",
    "        print(self.age)\n",
    "        print(self.percentage)\n",
    "\n",
    "s2 = Student(\"Varun\",26,90)   # is we don,t pass the values then it will take the default values defined in the init method\n",
    "s2.Print()"
   ]
  },
  {
   "cell_type": "markdown",
   "id": "variable-royal",
   "metadata": {},
   "source": [
    "### Another example of __init__ method"
   ]
  },
  {
   "cell_type": "code",
   "execution_count": 16,
   "id": "sophisticated-adjustment",
   "metadata": {},
   "outputs": [
    {
     "name": "stdout",
     "output_type": "stream",
     "text": [
      "the configuration of the computer is:- i5and 12 of ram\n",
      "\n",
      "the configuration of the computer is:- rayonand 8 of ram\n",
      "\n"
     ]
    }
   ],
   "source": [
    "class Computer:\n",
    "    def __init__(self,cpu,ram):      # Inisde the init the asttributes will be made for the object comp1 and comp2\n",
    "        self.cpu=cpu\n",
    "        self.ram=ram\n",
    "    def Print(self):\n",
    "        print(\"the configuration of the computer is:- \"+self.cpu+\"and \"+self.ram+\" of ram\")\n",
    "        print()\n",
    "\n",
    "# we now create an object of class Computer'\n",
    "\n",
    "comp1=Computer(\"i5\",\"12\")        # the objects are created and send to init method auromatically as it works as constructor\n",
    "                                 # and __init__ will run for every object of Computer once\n",
    "comp2=Computer(\"rayon\",\"8\")\n",
    "\n",
    "comp1.Print()\n",
    "comp2.Print()"
   ]
  }
 ],
 "metadata": {
  "kernelspec": {
   "display_name": "Python 3",
   "language": "python",
   "name": "python3"
  },
  "language_info": {
   "codemirror_mode": {
    "name": "ipython",
    "version": 3
   },
   "file_extension": ".py",
   "mimetype": "text/x-python",
   "name": "python",
   "nbconvert_exporter": "python",
   "pygments_lexer": "ipython3",
   "version": "3.9.2"
  }
 },
 "nbformat": 4,
 "nbformat_minor": 5
}

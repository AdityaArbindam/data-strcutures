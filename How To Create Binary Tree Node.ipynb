{
 "cells": [
  {
   "cell_type": "code",
   "execution_count": 4,
   "id": "personal-while",
   "metadata": {},
   "outputs": [],
   "source": [
    "class binaryTree:\n",
    "    def __init__(self,data):\n",
    "        self.data=data\n",
    "        self.left=None\n",
    "        self.right=None\n",
    "        \n",
    "b1=binaryTree(5)\n",
    "b2=binaryTree(3)\n",
    "b3=binaryTree(1)"
   ]
  },
  {
   "cell_type": "markdown",
   "id": "incoming-anger",
   "metadata": {},
   "source": [
    "### till now we have make the nodes of the binary tree but still they don't have any connections and we have to make connection in them"
   ]
  },
  {
   "cell_type": "code",
   "execution_count": 6,
   "id": "loaded-audience",
   "metadata": {},
   "outputs": [
    {
     "name": "stdout",
     "output_type": "stream",
     "text": [
      "3\n",
      "1\n",
      "5\n"
     ]
    }
   ],
   "source": [
    "b2.left=b3\n",
    "b2.right=b1\n",
    "\n",
    "print(b2.data)\n",
    "print(b2.left.data)\n",
    "print(b2.right.data)\n",
    "\n",
    "\n",
    "# we can see that the node b3 is the left child of b2 and b1 is the right child of b2"
   ]
  }
 ],
 "metadata": {
  "kernelspec": {
   "display_name": "Python 3",
   "language": "python",
   "name": "python3"
  },
  "language_info": {
   "codemirror_mode": {
    "name": "ipython",
    "version": 3
   },
   "file_extension": ".py",
   "mimetype": "text/x-python",
   "name": "python",
   "nbconvert_exporter": "python",
   "pygments_lexer": "ipython3",
   "version": "3.9.2"
  }
 },
 "nbformat": 4,
 "nbformat_minor": 5
}

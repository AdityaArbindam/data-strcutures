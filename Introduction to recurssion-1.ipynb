{
 "cells": [
  {
   "cell_type": "code",
   "execution_count": 6,
   "id": "religious-chaos",
   "metadata": {},
   "outputs": [
    {
     "name": "stdout",
     "output_type": "stream",
     "text": [
      "5\n",
      "120\n"
     ]
    }
   ],
   "source": [
    "# we will see to write a program to calculate factorial using recurssion\n",
    "\n",
    "n=int(input())\n",
    "def factorial(n):\n",
    "    if(n==1):\n",
    "        return 1              # base case of the factorial ,it will return 1 if n will be reduced till 1\n",
    "    x=n*factorial(n-1)\n",
    "    return x\n",
    "ans=factorial(n)\n",
    "print(ans)\n",
    "\n",
    "    \n",
    "    "
   ]
  },
  {
   "cell_type": "markdown",
   "id": "consolidated-interest",
   "metadata": {},
   "source": [
    "### Finding sum of 1st n natueal no's"
   ]
  },
  {
   "cell_type": "code",
   "execution_count": 15,
   "id": "comparable-smooth",
   "metadata": {},
   "outputs": [
    {
     "name": "stdout",
     "output_type": "stream",
     "text": [
      "100\n",
      "5050\n"
     ]
    }
   ],
   "source": [
    "n=int(input())\n",
    "\n",
    "def Sum(n):\n",
    "    if(n==1):\n",
    "        return 1\n",
    "    ans=n+Sum(n-1)\n",
    "    return ans\n",
    "\n",
    "print(Sum(n))\n",
    "\n",
    "\n",
    "\n",
    "# you can directly have returned n+sum(n-1)  instead of ans=n+sum(n-1)"
   ]
  }
 ],
 "metadata": {
  "kernelspec": {
   "display_name": "Python 3",
   "language": "python",
   "name": "python3"
  },
  "language_info": {
   "codemirror_mode": {
    "name": "ipython",
    "version": 3
   },
   "file_extension": ".py",
   "mimetype": "text/x-python",
   "name": "python",
   "nbconvert_exporter": "python",
   "pygments_lexer": "ipython3",
   "version": "3.9.2"
  }
 },
 "nbformat": 4,
 "nbformat_minor": 5
}

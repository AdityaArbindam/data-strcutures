{
 "cells": [
  {
   "cell_type": "code",
   "execution_count": 8,
   "id": "brutal-knife",
   "metadata": {},
   "outputs": [
    {
     "name": "stdout",
     "output_type": "stream",
     "text": [
      "abcpiiiaop\n"
     ]
    },
    {
     "data": {
      "text/plain": [
       "'abc3.14iiaop'"
      ]
     },
     "execution_count": 8,
     "metadata": {},
     "output_type": "execute_result"
    }
   ],
   "source": [
    "def replacePi(string,i):\n",
    "    str1=\"\"\n",
    "    x=1\n",
    "    if(i==len(string)):\n",
    "        return str1\n",
    "    if(i==len(string)-1):\n",
    "        str1=str1+string[i]\n",
    "    elif(string[i]=='p'):\n",
    "        if(string[i+1]=='i'):\n",
    "            str1=str1+'3.14'\n",
    "            x=2\n",
    "        else:\n",
    "            str1=str1+string[i]\n",
    "    else:\n",
    "        str1=str1+string[i]\n",
    "    return str1+replacePi(string,i+x)\n",
    "\n",
    "string=input()\n",
    "replacePi(string,0)"
   ]
  },
  {
   "cell_type": "markdown",
   "id": "soviet-vancouver",
   "metadata": {},
   "source": [
    "### Another method By sir...where we don't need to pass i as an argument\n"
   ]
  },
  {
   "cell_type": "code",
   "execution_count": 13,
   "id": "solved-madonna",
   "metadata": {},
   "outputs": [
    {
     "name": "stdout",
     "output_type": "stream",
     "text": [
      "adityappiarbindamppipipois a \n"
     ]
    },
    {
     "data": {
      "text/plain": [
       "'adityap3.14arbindamp3.143.14pois a '"
      ]
     },
     "execution_count": 13,
     "metadata": {},
     "output_type": "execute_result"
    }
   ],
   "source": [
    "def ReplacePi(string):\n",
    "    if(len(string)==0 or len(string)==1):  # this will be the base case a 0 or 1 length string can't have pi as characters in it\n",
    "        return string\n",
    "    if(string[0]=='p' and string[1]=='i'):\n",
    "        smalloutput=ReplacePi(string[2:])\n",
    "        return '3.14'+smalloutput\n",
    "    \n",
    "    # here if the 1st and the 2nd element of the string are p and i then replace will be called where a new string will\n",
    "    # start from the 2nd length of the previous string, The smallouput will return us the string where pi has already \n",
    "    # been replaced with '3.14'\n",
    "    else:\n",
    "        smalloutput=ReplacePi(string[1:])\n",
    "        return string[0]+smalloutput\n",
    "    \n",
    "    # the else part means if the ist and 2nd element is not pi then the new string will start after the 1st element of the \n",
    "    # previous string.\n",
    "    \n",
    "string=input()\n",
    "ReplacePi(string)"
   ]
  }
 ],
 "metadata": {
  "kernelspec": {
   "display_name": "Python 3",
   "language": "python",
   "name": "python3"
  },
  "language_info": {
   "codemirror_mode": {
    "name": "ipython",
    "version": 3
   },
   "file_extension": ".py",
   "mimetype": "text/x-python",
   "name": "python",
   "nbconvert_exporter": "python",
   "pygments_lexer": "ipython3",
   "version": "3.9.2"
  }
 },
 "nbformat": 4,
 "nbformat_minor": 5
}
